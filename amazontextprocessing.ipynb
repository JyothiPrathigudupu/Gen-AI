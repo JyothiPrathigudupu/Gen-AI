{
 "cells": [
  {
   "cell_type": "code",
   "execution_count": 1,
   "metadata": {
    "execution": {
     "iopub.execute_input": "2024-08-22T10:40:37.854221Z",
     "iopub.status.busy": "2024-08-22T10:40:37.853773Z",
     "iopub.status.idle": "2024-08-22T10:40:38.337105Z",
     "shell.execute_reply": "2024-08-22T10:40:38.335512Z",
     "shell.execute_reply.started": "2024-08-22T10:40:37.854178Z"
    }
   },
   "outputs": [],
   "source": [
    "import pandas as pd"
   ]
  },
  {
   "cell_type": "code",
   "execution_count": 2,
   "metadata": {
    "execution": {
     "iopub.execute_input": "2024-08-22T10:40:45.065651Z",
     "iopub.status.busy": "2024-08-22T10:40:45.064691Z",
     "iopub.status.idle": "2024-08-22T10:40:46.600851Z",
     "shell.execute_reply": "2024-08-22T10:40:46.599514Z",
     "shell.execute_reply.started": "2024-08-22T10:40:45.065584Z"
    }
   },
   "outputs": [],
   "source": [
    "df = pd.read_csv(\"C:/Users/nr802/Downloads/GenAI Projects/aws_review_sofware_dataset.csv\", nrows=500)"
   ]
  },
  {
   "cell_type": "code",
   "execution_count": 3,
   "metadata": {
    "execution": {
     "iopub.execute_input": "2024-08-22T10:40:50.327742Z",
     "iopub.status.busy": "2024-08-22T10:40:50.327247Z",
     "iopub.status.idle": "2024-08-22T10:40:50.357577Z",
     "shell.execute_reply": "2024-08-22T10:40:50.356087Z",
     "shell.execute_reply.started": "2024-08-22T10:40:50.327696Z"
    }
   },
   "outputs": [
    {
     "data": {
      "text/html": [
       "<div>\n",
       "<style scoped>\n",
       "    .dataframe tbody tr th:only-of-type {\n",
       "        vertical-align: middle;\n",
       "    }\n",
       "\n",
       "    .dataframe tbody tr th {\n",
       "        vertical-align: top;\n",
       "    }\n",
       "\n",
       "    .dataframe thead th {\n",
       "        text-align: right;\n",
       "    }\n",
       "</style>\n",
       "<table border=\"1\" class=\"dataframe\">\n",
       "  <thead>\n",
       "    <tr style=\"text-align: right;\">\n",
       "      <th></th>\n",
       "      <th>Unnamed: 0</th>\n",
       "      <th>overall</th>\n",
       "      <th>verified</th>\n",
       "      <th>reviewTime</th>\n",
       "      <th>reviewerID</th>\n",
       "      <th>asin</th>\n",
       "      <th>style</th>\n",
       "      <th>reviewerName</th>\n",
       "      <th>reviewText</th>\n",
       "      <th>summary</th>\n",
       "      <th>unixReviewTime</th>\n",
       "      <th>vote</th>\n",
       "      <th>image</th>\n",
       "    </tr>\n",
       "  </thead>\n",
       "  <tbody>\n",
       "    <tr>\n",
       "      <th>0</th>\n",
       "      <td>0</td>\n",
       "      <td>4.0</td>\n",
       "      <td>True</td>\n",
       "      <td>03 11, 2014</td>\n",
       "      <td>A240ORQ2LF9LUI</td>\n",
       "      <td>77613252</td>\n",
       "      <td>{'Format:': ' Loose Leaf'}</td>\n",
       "      <td>Michelle W</td>\n",
       "      <td>The materials arrived early and were in excell...</td>\n",
       "      <td>Material Great</td>\n",
       "      <td>1394496000</td>\n",
       "      <td>NaN</td>\n",
       "      <td>NaN</td>\n",
       "    </tr>\n",
       "    <tr>\n",
       "      <th>1</th>\n",
       "      <td>1</td>\n",
       "      <td>4.0</td>\n",
       "      <td>True</td>\n",
       "      <td>02 23, 2014</td>\n",
       "      <td>A1YCCU0YRLS0FE</td>\n",
       "      <td>77613252</td>\n",
       "      <td>{'Format:': ' Loose Leaf'}</td>\n",
       "      <td>Rosalind White Ames</td>\n",
       "      <td>I am really enjoying this book with the worksh...</td>\n",
       "      <td>Health</td>\n",
       "      <td>1393113600</td>\n",
       "      <td>NaN</td>\n",
       "      <td>NaN</td>\n",
       "    </tr>\n",
       "    <tr>\n",
       "      <th>2</th>\n",
       "      <td>2</td>\n",
       "      <td>1.0</td>\n",
       "      <td>True</td>\n",
       "      <td>02 17, 2014</td>\n",
       "      <td>A1BJHRQDYVAY2J</td>\n",
       "      <td>77613252</td>\n",
       "      <td>{'Format:': ' Loose Leaf'}</td>\n",
       "      <td>Allan R. Baker</td>\n",
       "      <td>IF YOU ARE TAKING THIS CLASS DON\"T WASTE YOUR ...</td>\n",
       "      <td>ARE YOU KIDING ME?</td>\n",
       "      <td>1392595200</td>\n",
       "      <td>7.0</td>\n",
       "      <td>NaN</td>\n",
       "    </tr>\n",
       "    <tr>\n",
       "      <th>3</th>\n",
       "      <td>3</td>\n",
       "      <td>3.0</td>\n",
       "      <td>True</td>\n",
       "      <td>02 17, 2014</td>\n",
       "      <td>APRDVZ6QBIQXT</td>\n",
       "      <td>77613252</td>\n",
       "      <td>{'Format:': ' Loose Leaf'}</td>\n",
       "      <td>Lucy</td>\n",
       "      <td>This book was missing pages!!! Important pages...</td>\n",
       "      <td>missing pages!!</td>\n",
       "      <td>1392595200</td>\n",
       "      <td>3.0</td>\n",
       "      <td>NaN</td>\n",
       "    </tr>\n",
       "    <tr>\n",
       "      <th>4</th>\n",
       "      <td>4</td>\n",
       "      <td>5.0</td>\n",
       "      <td>False</td>\n",
       "      <td>10 14, 2013</td>\n",
       "      <td>A2JZTTBSLS1QXV</td>\n",
       "      <td>77775473</td>\n",
       "      <td>NaN</td>\n",
       "      <td>Albert V.</td>\n",
       "      <td>I have used LearnSmart and can officially say ...</td>\n",
       "      <td>Best study product out there!</td>\n",
       "      <td>1381708800</td>\n",
       "      <td>NaN</td>\n",
       "      <td>NaN</td>\n",
       "    </tr>\n",
       "    <tr>\n",
       "      <th>...</th>\n",
       "      <td>...</td>\n",
       "      <td>...</td>\n",
       "      <td>...</td>\n",
       "      <td>...</td>\n",
       "      <td>...</td>\n",
       "      <td>...</td>\n",
       "      <td>...</td>\n",
       "      <td>...</td>\n",
       "      <td>...</td>\n",
       "      <td>...</td>\n",
       "      <td>...</td>\n",
       "      <td>...</td>\n",
       "      <td>...</td>\n",
       "    </tr>\n",
       "    <tr>\n",
       "      <th>495</th>\n",
       "      <td>495</td>\n",
       "      <td>5.0</td>\n",
       "      <td>True</td>\n",
       "      <td>08 25, 2016</td>\n",
       "      <td>A32MA3S8NH50MC</td>\n",
       "      <td>763855553</td>\n",
       "      <td>NaN</td>\n",
       "      <td>Nancy Peacock</td>\n",
       "      <td>I don't used this my grandson does and he love...</td>\n",
       "      <td>Five Stars</td>\n",
       "      <td>1472083200</td>\n",
       "      <td>NaN</td>\n",
       "      <td>NaN</td>\n",
       "    </tr>\n",
       "    <tr>\n",
       "      <th>496</th>\n",
       "      <td>496</td>\n",
       "      <td>2.0</td>\n",
       "      <td>False</td>\n",
       "      <td>08 25, 2016</td>\n",
       "      <td>A1V37CXJZCMSA0</td>\n",
       "      <td>763855553</td>\n",
       "      <td>NaN</td>\n",
       "      <td>saulb</td>\n",
       "      <td>We installed 365 about 6 months ago and it com...</td>\n",
       "      <td>365 still has bugs that need worked out</td>\n",
       "      <td>1472083200</td>\n",
       "      <td>NaN</td>\n",
       "      <td>NaN</td>\n",
       "    </tr>\n",
       "    <tr>\n",
       "      <th>497</th>\n",
       "      <td>497</td>\n",
       "      <td>5.0</td>\n",
       "      <td>True</td>\n",
       "      <td>08 19, 2016</td>\n",
       "      <td>A1N7GDU53M4HGO</td>\n",
       "      <td>763855553</td>\n",
       "      <td>NaN</td>\n",
       "      <td>Robert Hicks</td>\n",
       "      <td>Great product. As expected</td>\n",
       "      <td>Five Stars</td>\n",
       "      <td>1471564800</td>\n",
       "      <td>NaN</td>\n",
       "      <td>NaN</td>\n",
       "    </tr>\n",
       "    <tr>\n",
       "      <th>498</th>\n",
       "      <td>498</td>\n",
       "      <td>5.0</td>\n",
       "      <td>True</td>\n",
       "      <td>08 18, 2016</td>\n",
       "      <td>A2FU6HP81I7FCX</td>\n",
       "      <td>763855553</td>\n",
       "      <td>NaN</td>\n",
       "      <td>Eric Pickett</td>\n",
       "      <td>worked great</td>\n",
       "      <td>worked great</td>\n",
       "      <td>1471478400</td>\n",
       "      <td>2.0</td>\n",
       "      <td>NaN</td>\n",
       "    </tr>\n",
       "    <tr>\n",
       "      <th>499</th>\n",
       "      <td>499</td>\n",
       "      <td>4.0</td>\n",
       "      <td>True</td>\n",
       "      <td>08 11, 2016</td>\n",
       "      <td>A2RWZOCT8A2LOC</td>\n",
       "      <td>763855553</td>\n",
       "      <td>NaN</td>\n",
       "      <td>RB</td>\n",
       "      <td>WORKS FINE.</td>\n",
       "      <td>Four Stars</td>\n",
       "      <td>1470873600</td>\n",
       "      <td>NaN</td>\n",
       "      <td>NaN</td>\n",
       "    </tr>\n",
       "  </tbody>\n",
       "</table>\n",
       "<p>500 rows × 13 columns</p>\n",
       "</div>"
      ],
      "text/plain": [
       "     Unnamed: 0  overall  verified   reviewTime      reviewerID       asin  \\\n",
       "0             0      4.0      True  03 11, 2014  A240ORQ2LF9LUI   77613252   \n",
       "1             1      4.0      True  02 23, 2014  A1YCCU0YRLS0FE   77613252   \n",
       "2             2      1.0      True  02 17, 2014  A1BJHRQDYVAY2J   77613252   \n",
       "3             3      3.0      True  02 17, 2014   APRDVZ6QBIQXT   77613252   \n",
       "4             4      5.0     False  10 14, 2013  A2JZTTBSLS1QXV   77775473   \n",
       "..          ...      ...       ...          ...             ...        ...   \n",
       "495         495      5.0      True  08 25, 2016  A32MA3S8NH50MC  763855553   \n",
       "496         496      2.0     False  08 25, 2016  A1V37CXJZCMSA0  763855553   \n",
       "497         497      5.0      True  08 19, 2016  A1N7GDU53M4HGO  763855553   \n",
       "498         498      5.0      True  08 18, 2016  A2FU6HP81I7FCX  763855553   \n",
       "499         499      4.0      True  08 11, 2016  A2RWZOCT8A2LOC  763855553   \n",
       "\n",
       "                          style         reviewerName  \\\n",
       "0    {'Format:': ' Loose Leaf'}           Michelle W   \n",
       "1    {'Format:': ' Loose Leaf'}  Rosalind White Ames   \n",
       "2    {'Format:': ' Loose Leaf'}       Allan R. Baker   \n",
       "3    {'Format:': ' Loose Leaf'}                 Lucy   \n",
       "4                           NaN            Albert V.   \n",
       "..                          ...                  ...   \n",
       "495                         NaN        Nancy Peacock   \n",
       "496                         NaN                saulb   \n",
       "497                         NaN         Robert Hicks   \n",
       "498                         NaN         Eric Pickett   \n",
       "499                         NaN                   RB   \n",
       "\n",
       "                                            reviewText  \\\n",
       "0    The materials arrived early and were in excell...   \n",
       "1    I am really enjoying this book with the worksh...   \n",
       "2    IF YOU ARE TAKING THIS CLASS DON\"T WASTE YOUR ...   \n",
       "3    This book was missing pages!!! Important pages...   \n",
       "4    I have used LearnSmart and can officially say ...   \n",
       "..                                                 ...   \n",
       "495  I don't used this my grandson does and he love...   \n",
       "496  We installed 365 about 6 months ago and it com...   \n",
       "497                         Great product. As expected   \n",
       "498                                       worked great   \n",
       "499                                        WORKS FINE.   \n",
       "\n",
       "                                     summary  unixReviewTime  vote image  \n",
       "0                             Material Great      1394496000   NaN   NaN  \n",
       "1                                     Health      1393113600   NaN   NaN  \n",
       "2                         ARE YOU KIDING ME?      1392595200   7.0   NaN  \n",
       "3                            missing pages!!      1392595200   3.0   NaN  \n",
       "4              Best study product out there!      1381708800   NaN   NaN  \n",
       "..                                       ...             ...   ...   ...  \n",
       "495                               Five Stars      1472083200   NaN   NaN  \n",
       "496  365 still has bugs that need worked out      1472083200   NaN   NaN  \n",
       "497                               Five Stars      1471564800   NaN   NaN  \n",
       "498                             worked great      1471478400   2.0   NaN  \n",
       "499                               Four Stars      1470873600   NaN   NaN  \n",
       "\n",
       "[500 rows x 13 columns]"
      ]
     },
     "execution_count": 3,
     "metadata": {},
     "output_type": "execute_result"
    }
   ],
   "source": [
    "df"
   ]
  },
  {
   "cell_type": "code",
   "execution_count": 4,
   "metadata": {},
   "outputs": [
    {
     "data": {
      "text/plain": [
       "Index(['Unnamed: 0', 'overall', 'verified', 'reviewTime', 'reviewerID', 'asin',\n",
       "       'style', 'reviewerName', 'reviewText', 'summary', 'unixReviewTime',\n",
       "       'vote', 'image'],\n",
       "      dtype='object')"
      ]
     },
     "execution_count": 4,
     "metadata": {},
     "output_type": "execute_result"
    }
   ],
   "source": [
    "df.columns"
   ]
  },
  {
   "cell_type": "markdown",
   "metadata": {},
   "source": [
    "# Lower Casing"
   ]
  },
  {
   "cell_type": "code",
   "execution_count": 5,
   "metadata": {
    "execution": {
     "iopub.execute_input": "2024-08-22T10:41:33.816352Z",
     "iopub.status.busy": "2024-08-22T10:41:33.815524Z",
     "iopub.status.idle": "2024-08-22T10:41:34.043572Z",
     "shell.execute_reply": "2024-08-22T10:41:34.042200Z",
     "shell.execute_reply.started": "2024-08-22T10:41:33.816303Z"
    }
   },
   "outputs": [],
   "source": [
    "df['style'] = df['style'].str.lower()\n",
    "df['reviewerName'] = df['reviewerName'].str.lower()\n",
    "df['reviewText'] = df['reviewText'].str.lower()\n",
    "df['summary'] = df['summary'].str.lower()"
   ]
  },
  {
   "cell_type": "code",
   "execution_count": 6,
   "metadata": {
    "execution": {
     "iopub.execute_input": "2024-08-22T10:41:47.452265Z",
     "iopub.status.busy": "2024-08-22T10:41:47.451813Z",
     "iopub.status.idle": "2024-08-22T10:41:47.468159Z",
     "shell.execute_reply": "2024-08-22T10:41:47.466839Z",
     "shell.execute_reply.started": "2024-08-22T10:41:47.452220Z"
    }
   },
   "outputs": [
    {
     "data": {
      "text/html": [
       "<div>\n",
       "<style scoped>\n",
       "    .dataframe tbody tr th:only-of-type {\n",
       "        vertical-align: middle;\n",
       "    }\n",
       "\n",
       "    .dataframe tbody tr th {\n",
       "        vertical-align: top;\n",
       "    }\n",
       "\n",
       "    .dataframe thead th {\n",
       "        text-align: right;\n",
       "    }\n",
       "</style>\n",
       "<table border=\"1\" class=\"dataframe\">\n",
       "  <thead>\n",
       "    <tr style=\"text-align: right;\">\n",
       "      <th></th>\n",
       "      <th>Unnamed: 0</th>\n",
       "      <th>overall</th>\n",
       "      <th>verified</th>\n",
       "      <th>reviewTime</th>\n",
       "      <th>reviewerID</th>\n",
       "      <th>asin</th>\n",
       "      <th>style</th>\n",
       "      <th>reviewerName</th>\n",
       "      <th>reviewText</th>\n",
       "      <th>summary</th>\n",
       "      <th>unixReviewTime</th>\n",
       "      <th>vote</th>\n",
       "      <th>image</th>\n",
       "    </tr>\n",
       "  </thead>\n",
       "  <tbody>\n",
       "    <tr>\n",
       "      <th>0</th>\n",
       "      <td>0</td>\n",
       "      <td>4.0</td>\n",
       "      <td>True</td>\n",
       "      <td>03 11, 2014</td>\n",
       "      <td>A240ORQ2LF9LUI</td>\n",
       "      <td>77613252</td>\n",
       "      <td>{'format:': ' loose leaf'}</td>\n",
       "      <td>michelle w</td>\n",
       "      <td>the materials arrived early and were in excell...</td>\n",
       "      <td>material great</td>\n",
       "      <td>1394496000</td>\n",
       "      <td>NaN</td>\n",
       "      <td>NaN</td>\n",
       "    </tr>\n",
       "    <tr>\n",
       "      <th>1</th>\n",
       "      <td>1</td>\n",
       "      <td>4.0</td>\n",
       "      <td>True</td>\n",
       "      <td>02 23, 2014</td>\n",
       "      <td>A1YCCU0YRLS0FE</td>\n",
       "      <td>77613252</td>\n",
       "      <td>{'format:': ' loose leaf'}</td>\n",
       "      <td>rosalind white ames</td>\n",
       "      <td>i am really enjoying this book with the worksh...</td>\n",
       "      <td>health</td>\n",
       "      <td>1393113600</td>\n",
       "      <td>NaN</td>\n",
       "      <td>NaN</td>\n",
       "    </tr>\n",
       "    <tr>\n",
       "      <th>2</th>\n",
       "      <td>2</td>\n",
       "      <td>1.0</td>\n",
       "      <td>True</td>\n",
       "      <td>02 17, 2014</td>\n",
       "      <td>A1BJHRQDYVAY2J</td>\n",
       "      <td>77613252</td>\n",
       "      <td>{'format:': ' loose leaf'}</td>\n",
       "      <td>allan r. baker</td>\n",
       "      <td>if you are taking this class don\"t waste your ...</td>\n",
       "      <td>are you kiding me?</td>\n",
       "      <td>1392595200</td>\n",
       "      <td>7.0</td>\n",
       "      <td>NaN</td>\n",
       "    </tr>\n",
       "    <tr>\n",
       "      <th>3</th>\n",
       "      <td>3</td>\n",
       "      <td>3.0</td>\n",
       "      <td>True</td>\n",
       "      <td>02 17, 2014</td>\n",
       "      <td>APRDVZ6QBIQXT</td>\n",
       "      <td>77613252</td>\n",
       "      <td>{'format:': ' loose leaf'}</td>\n",
       "      <td>lucy</td>\n",
       "      <td>this book was missing pages!!! important pages...</td>\n",
       "      <td>missing pages!!</td>\n",
       "      <td>1392595200</td>\n",
       "      <td>3.0</td>\n",
       "      <td>NaN</td>\n",
       "    </tr>\n",
       "    <tr>\n",
       "      <th>4</th>\n",
       "      <td>4</td>\n",
       "      <td>5.0</td>\n",
       "      <td>False</td>\n",
       "      <td>10 14, 2013</td>\n",
       "      <td>A2JZTTBSLS1QXV</td>\n",
       "      <td>77775473</td>\n",
       "      <td>NaN</td>\n",
       "      <td>albert v.</td>\n",
       "      <td>i have used learnsmart and can officially say ...</td>\n",
       "      <td>best study product out there!</td>\n",
       "      <td>1381708800</td>\n",
       "      <td>NaN</td>\n",
       "      <td>NaN</td>\n",
       "    </tr>\n",
       "    <tr>\n",
       "      <th>...</th>\n",
       "      <td>...</td>\n",
       "      <td>...</td>\n",
       "      <td>...</td>\n",
       "      <td>...</td>\n",
       "      <td>...</td>\n",
       "      <td>...</td>\n",
       "      <td>...</td>\n",
       "      <td>...</td>\n",
       "      <td>...</td>\n",
       "      <td>...</td>\n",
       "      <td>...</td>\n",
       "      <td>...</td>\n",
       "      <td>...</td>\n",
       "    </tr>\n",
       "    <tr>\n",
       "      <th>495</th>\n",
       "      <td>495</td>\n",
       "      <td>5.0</td>\n",
       "      <td>True</td>\n",
       "      <td>08 25, 2016</td>\n",
       "      <td>A32MA3S8NH50MC</td>\n",
       "      <td>763855553</td>\n",
       "      <td>NaN</td>\n",
       "      <td>nancy peacock</td>\n",
       "      <td>i don't used this my grandson does and he love...</td>\n",
       "      <td>five stars</td>\n",
       "      <td>1472083200</td>\n",
       "      <td>NaN</td>\n",
       "      <td>NaN</td>\n",
       "    </tr>\n",
       "    <tr>\n",
       "      <th>496</th>\n",
       "      <td>496</td>\n",
       "      <td>2.0</td>\n",
       "      <td>False</td>\n",
       "      <td>08 25, 2016</td>\n",
       "      <td>A1V37CXJZCMSA0</td>\n",
       "      <td>763855553</td>\n",
       "      <td>NaN</td>\n",
       "      <td>saulb</td>\n",
       "      <td>we installed 365 about 6 months ago and it com...</td>\n",
       "      <td>365 still has bugs that need worked out</td>\n",
       "      <td>1472083200</td>\n",
       "      <td>NaN</td>\n",
       "      <td>NaN</td>\n",
       "    </tr>\n",
       "    <tr>\n",
       "      <th>497</th>\n",
       "      <td>497</td>\n",
       "      <td>5.0</td>\n",
       "      <td>True</td>\n",
       "      <td>08 19, 2016</td>\n",
       "      <td>A1N7GDU53M4HGO</td>\n",
       "      <td>763855553</td>\n",
       "      <td>NaN</td>\n",
       "      <td>robert hicks</td>\n",
       "      <td>great product. as expected</td>\n",
       "      <td>five stars</td>\n",
       "      <td>1471564800</td>\n",
       "      <td>NaN</td>\n",
       "      <td>NaN</td>\n",
       "    </tr>\n",
       "    <tr>\n",
       "      <th>498</th>\n",
       "      <td>498</td>\n",
       "      <td>5.0</td>\n",
       "      <td>True</td>\n",
       "      <td>08 18, 2016</td>\n",
       "      <td>A2FU6HP81I7FCX</td>\n",
       "      <td>763855553</td>\n",
       "      <td>NaN</td>\n",
       "      <td>eric pickett</td>\n",
       "      <td>worked great</td>\n",
       "      <td>worked great</td>\n",
       "      <td>1471478400</td>\n",
       "      <td>2.0</td>\n",
       "      <td>NaN</td>\n",
       "    </tr>\n",
       "    <tr>\n",
       "      <th>499</th>\n",
       "      <td>499</td>\n",
       "      <td>4.0</td>\n",
       "      <td>True</td>\n",
       "      <td>08 11, 2016</td>\n",
       "      <td>A2RWZOCT8A2LOC</td>\n",
       "      <td>763855553</td>\n",
       "      <td>NaN</td>\n",
       "      <td>rb</td>\n",
       "      <td>works fine.</td>\n",
       "      <td>four stars</td>\n",
       "      <td>1470873600</td>\n",
       "      <td>NaN</td>\n",
       "      <td>NaN</td>\n",
       "    </tr>\n",
       "  </tbody>\n",
       "</table>\n",
       "<p>500 rows × 13 columns</p>\n",
       "</div>"
      ],
      "text/plain": [
       "     Unnamed: 0  overall  verified   reviewTime      reviewerID       asin  \\\n",
       "0             0      4.0      True  03 11, 2014  A240ORQ2LF9LUI   77613252   \n",
       "1             1      4.0      True  02 23, 2014  A1YCCU0YRLS0FE   77613252   \n",
       "2             2      1.0      True  02 17, 2014  A1BJHRQDYVAY2J   77613252   \n",
       "3             3      3.0      True  02 17, 2014   APRDVZ6QBIQXT   77613252   \n",
       "4             4      5.0     False  10 14, 2013  A2JZTTBSLS1QXV   77775473   \n",
       "..          ...      ...       ...          ...             ...        ...   \n",
       "495         495      5.0      True  08 25, 2016  A32MA3S8NH50MC  763855553   \n",
       "496         496      2.0     False  08 25, 2016  A1V37CXJZCMSA0  763855553   \n",
       "497         497      5.0      True  08 19, 2016  A1N7GDU53M4HGO  763855553   \n",
       "498         498      5.0      True  08 18, 2016  A2FU6HP81I7FCX  763855553   \n",
       "499         499      4.0      True  08 11, 2016  A2RWZOCT8A2LOC  763855553   \n",
       "\n",
       "                          style         reviewerName  \\\n",
       "0    {'format:': ' loose leaf'}           michelle w   \n",
       "1    {'format:': ' loose leaf'}  rosalind white ames   \n",
       "2    {'format:': ' loose leaf'}       allan r. baker   \n",
       "3    {'format:': ' loose leaf'}                 lucy   \n",
       "4                           NaN            albert v.   \n",
       "..                          ...                  ...   \n",
       "495                         NaN        nancy peacock   \n",
       "496                         NaN                saulb   \n",
       "497                         NaN         robert hicks   \n",
       "498                         NaN         eric pickett   \n",
       "499                         NaN                   rb   \n",
       "\n",
       "                                            reviewText  \\\n",
       "0    the materials arrived early and were in excell...   \n",
       "1    i am really enjoying this book with the worksh...   \n",
       "2    if you are taking this class don\"t waste your ...   \n",
       "3    this book was missing pages!!! important pages...   \n",
       "4    i have used learnsmart and can officially say ...   \n",
       "..                                                 ...   \n",
       "495  i don't used this my grandson does and he love...   \n",
       "496  we installed 365 about 6 months ago and it com...   \n",
       "497                         great product. as expected   \n",
       "498                                       worked great   \n",
       "499                                        works fine.   \n",
       "\n",
       "                                     summary  unixReviewTime  vote image  \n",
       "0                             material great      1394496000   NaN   NaN  \n",
       "1                                     health      1393113600   NaN   NaN  \n",
       "2                         are you kiding me?      1392595200   7.0   NaN  \n",
       "3                            missing pages!!      1392595200   3.0   NaN  \n",
       "4              best study product out there!      1381708800   NaN   NaN  \n",
       "..                                       ...             ...   ...   ...  \n",
       "495                               five stars      1472083200   NaN   NaN  \n",
       "496  365 still has bugs that need worked out      1472083200   NaN   NaN  \n",
       "497                               five stars      1471564800   NaN   NaN  \n",
       "498                             worked great      1471478400   2.0   NaN  \n",
       "499                               four stars      1470873600   NaN   NaN  \n",
       "\n",
       "[500 rows x 13 columns]"
      ]
     },
     "execution_count": 6,
     "metadata": {},
     "output_type": "execute_result"
    }
   ],
   "source": [
    "df"
   ]
  },
  {
   "cell_type": "markdown",
   "metadata": {},
   "source": [
    "# Remove HTML Tags"
   ]
  },
  {
   "cell_type": "code",
   "execution_count": 7,
   "metadata": {
    "execution": {
     "iopub.execute_input": "2024-08-22T10:42:14.232879Z",
     "iopub.status.busy": "2024-08-22T10:42:14.232388Z",
     "iopub.status.idle": "2024-08-22T10:42:14.241334Z",
     "shell.execute_reply": "2024-08-22T10:42:14.239528Z",
     "shell.execute_reply.started": "2024-08-22T10:42:14.232835Z"
    }
   },
   "outputs": [],
   "source": [
    "import re  #Regular Expressions\n",
    "def remove_html_tags(text):\n",
    "    pattern = re.compile('<.*?>')\n",
    "    return pattern.sub(r'', text)"
   ]
  },
  {
   "cell_type": "code",
   "execution_count": 8,
   "metadata": {
    "execution": {
     "iopub.execute_input": "2024-08-22T10:42:43.754796Z",
     "iopub.status.busy": "2024-08-22T10:42:43.754267Z",
     "iopub.status.idle": "2024-08-22T10:42:44.021398Z",
     "shell.execute_reply": "2024-08-22T10:42:44.020202Z",
     "shell.execute_reply.started": "2024-08-22T10:42:43.754751Z"
    }
   },
   "outputs": [],
   "source": [
    "df['style'] = df['style'].dropna().apply(remove_html_tags)"
   ]
  },
  {
   "cell_type": "code",
   "execution_count": 9,
   "metadata": {},
   "outputs": [],
   "source": [
    "df['reviewerName'] = df['reviewerName'].dropna().apply(remove_html_tags)"
   ]
  },
  {
   "cell_type": "code",
   "execution_count": 10,
   "metadata": {},
   "outputs": [],
   "source": [
    "df['reviewText'] = df['reviewText'].dropna().apply(remove_html_tags)"
   ]
  },
  {
   "cell_type": "code",
   "execution_count": 11,
   "metadata": {},
   "outputs": [],
   "source": [
    "df['summary'] = df['summary'].dropna().apply(remove_html_tags)"
   ]
  },
  {
   "cell_type": "code",
   "execution_count": 12,
   "metadata": {
    "execution": {
     "iopub.execute_input": "2024-08-22T10:42:52.767139Z",
     "iopub.status.busy": "2024-08-22T10:42:52.766697Z",
     "iopub.status.idle": "2024-08-22T10:42:52.782031Z",
     "shell.execute_reply": "2024-08-22T10:42:52.780742Z",
     "shell.execute_reply.started": "2024-08-22T10:42:52.767098Z"
    }
   },
   "outputs": [
    {
     "data": {
      "text/html": [
       "<div>\n",
       "<style scoped>\n",
       "    .dataframe tbody tr th:only-of-type {\n",
       "        vertical-align: middle;\n",
       "    }\n",
       "\n",
       "    .dataframe tbody tr th {\n",
       "        vertical-align: top;\n",
       "    }\n",
       "\n",
       "    .dataframe thead th {\n",
       "        text-align: right;\n",
       "    }\n",
       "</style>\n",
       "<table border=\"1\" class=\"dataframe\">\n",
       "  <thead>\n",
       "    <tr style=\"text-align: right;\">\n",
       "      <th></th>\n",
       "      <th>Unnamed: 0</th>\n",
       "      <th>overall</th>\n",
       "      <th>verified</th>\n",
       "      <th>reviewTime</th>\n",
       "      <th>reviewerID</th>\n",
       "      <th>asin</th>\n",
       "      <th>style</th>\n",
       "      <th>reviewerName</th>\n",
       "      <th>reviewText</th>\n",
       "      <th>summary</th>\n",
       "      <th>unixReviewTime</th>\n",
       "      <th>vote</th>\n",
       "      <th>image</th>\n",
       "    </tr>\n",
       "  </thead>\n",
       "  <tbody>\n",
       "    <tr>\n",
       "      <th>0</th>\n",
       "      <td>0</td>\n",
       "      <td>4.0</td>\n",
       "      <td>True</td>\n",
       "      <td>03 11, 2014</td>\n",
       "      <td>A240ORQ2LF9LUI</td>\n",
       "      <td>77613252</td>\n",
       "      <td>{'format:': ' loose leaf'}</td>\n",
       "      <td>michelle w</td>\n",
       "      <td>the materials arrived early and were in excell...</td>\n",
       "      <td>material great</td>\n",
       "      <td>1394496000</td>\n",
       "      <td>NaN</td>\n",
       "      <td>NaN</td>\n",
       "    </tr>\n",
       "    <tr>\n",
       "      <th>1</th>\n",
       "      <td>1</td>\n",
       "      <td>4.0</td>\n",
       "      <td>True</td>\n",
       "      <td>02 23, 2014</td>\n",
       "      <td>A1YCCU0YRLS0FE</td>\n",
       "      <td>77613252</td>\n",
       "      <td>{'format:': ' loose leaf'}</td>\n",
       "      <td>rosalind white ames</td>\n",
       "      <td>i am really enjoying this book with the worksh...</td>\n",
       "      <td>health</td>\n",
       "      <td>1393113600</td>\n",
       "      <td>NaN</td>\n",
       "      <td>NaN</td>\n",
       "    </tr>\n",
       "    <tr>\n",
       "      <th>2</th>\n",
       "      <td>2</td>\n",
       "      <td>1.0</td>\n",
       "      <td>True</td>\n",
       "      <td>02 17, 2014</td>\n",
       "      <td>A1BJHRQDYVAY2J</td>\n",
       "      <td>77613252</td>\n",
       "      <td>{'format:': ' loose leaf'}</td>\n",
       "      <td>allan r. baker</td>\n",
       "      <td>if you are taking this class don\"t waste your ...</td>\n",
       "      <td>are you kiding me?</td>\n",
       "      <td>1392595200</td>\n",
       "      <td>7.0</td>\n",
       "      <td>NaN</td>\n",
       "    </tr>\n",
       "    <tr>\n",
       "      <th>3</th>\n",
       "      <td>3</td>\n",
       "      <td>3.0</td>\n",
       "      <td>True</td>\n",
       "      <td>02 17, 2014</td>\n",
       "      <td>APRDVZ6QBIQXT</td>\n",
       "      <td>77613252</td>\n",
       "      <td>{'format:': ' loose leaf'}</td>\n",
       "      <td>lucy</td>\n",
       "      <td>this book was missing pages!!! important pages...</td>\n",
       "      <td>missing pages!!</td>\n",
       "      <td>1392595200</td>\n",
       "      <td>3.0</td>\n",
       "      <td>NaN</td>\n",
       "    </tr>\n",
       "    <tr>\n",
       "      <th>4</th>\n",
       "      <td>4</td>\n",
       "      <td>5.0</td>\n",
       "      <td>False</td>\n",
       "      <td>10 14, 2013</td>\n",
       "      <td>A2JZTTBSLS1QXV</td>\n",
       "      <td>77775473</td>\n",
       "      <td>NaN</td>\n",
       "      <td>albert v.</td>\n",
       "      <td>i have used learnsmart and can officially say ...</td>\n",
       "      <td>best study product out there!</td>\n",
       "      <td>1381708800</td>\n",
       "      <td>NaN</td>\n",
       "      <td>NaN</td>\n",
       "    </tr>\n",
       "    <tr>\n",
       "      <th>...</th>\n",
       "      <td>...</td>\n",
       "      <td>...</td>\n",
       "      <td>...</td>\n",
       "      <td>...</td>\n",
       "      <td>...</td>\n",
       "      <td>...</td>\n",
       "      <td>...</td>\n",
       "      <td>...</td>\n",
       "      <td>...</td>\n",
       "      <td>...</td>\n",
       "      <td>...</td>\n",
       "      <td>...</td>\n",
       "      <td>...</td>\n",
       "    </tr>\n",
       "    <tr>\n",
       "      <th>495</th>\n",
       "      <td>495</td>\n",
       "      <td>5.0</td>\n",
       "      <td>True</td>\n",
       "      <td>08 25, 2016</td>\n",
       "      <td>A32MA3S8NH50MC</td>\n",
       "      <td>763855553</td>\n",
       "      <td>NaN</td>\n",
       "      <td>nancy peacock</td>\n",
       "      <td>i don't used this my grandson does and he love...</td>\n",
       "      <td>five stars</td>\n",
       "      <td>1472083200</td>\n",
       "      <td>NaN</td>\n",
       "      <td>NaN</td>\n",
       "    </tr>\n",
       "    <tr>\n",
       "      <th>496</th>\n",
       "      <td>496</td>\n",
       "      <td>2.0</td>\n",
       "      <td>False</td>\n",
       "      <td>08 25, 2016</td>\n",
       "      <td>A1V37CXJZCMSA0</td>\n",
       "      <td>763855553</td>\n",
       "      <td>NaN</td>\n",
       "      <td>saulb</td>\n",
       "      <td>we installed 365 about 6 months ago and it com...</td>\n",
       "      <td>365 still has bugs that need worked out</td>\n",
       "      <td>1472083200</td>\n",
       "      <td>NaN</td>\n",
       "      <td>NaN</td>\n",
       "    </tr>\n",
       "    <tr>\n",
       "      <th>497</th>\n",
       "      <td>497</td>\n",
       "      <td>5.0</td>\n",
       "      <td>True</td>\n",
       "      <td>08 19, 2016</td>\n",
       "      <td>A1N7GDU53M4HGO</td>\n",
       "      <td>763855553</td>\n",
       "      <td>NaN</td>\n",
       "      <td>robert hicks</td>\n",
       "      <td>great product. as expected</td>\n",
       "      <td>five stars</td>\n",
       "      <td>1471564800</td>\n",
       "      <td>NaN</td>\n",
       "      <td>NaN</td>\n",
       "    </tr>\n",
       "    <tr>\n",
       "      <th>498</th>\n",
       "      <td>498</td>\n",
       "      <td>5.0</td>\n",
       "      <td>True</td>\n",
       "      <td>08 18, 2016</td>\n",
       "      <td>A2FU6HP81I7FCX</td>\n",
       "      <td>763855553</td>\n",
       "      <td>NaN</td>\n",
       "      <td>eric pickett</td>\n",
       "      <td>worked great</td>\n",
       "      <td>worked great</td>\n",
       "      <td>1471478400</td>\n",
       "      <td>2.0</td>\n",
       "      <td>NaN</td>\n",
       "    </tr>\n",
       "    <tr>\n",
       "      <th>499</th>\n",
       "      <td>499</td>\n",
       "      <td>4.0</td>\n",
       "      <td>True</td>\n",
       "      <td>08 11, 2016</td>\n",
       "      <td>A2RWZOCT8A2LOC</td>\n",
       "      <td>763855553</td>\n",
       "      <td>NaN</td>\n",
       "      <td>rb</td>\n",
       "      <td>works fine.</td>\n",
       "      <td>four stars</td>\n",
       "      <td>1470873600</td>\n",
       "      <td>NaN</td>\n",
       "      <td>NaN</td>\n",
       "    </tr>\n",
       "  </tbody>\n",
       "</table>\n",
       "<p>500 rows × 13 columns</p>\n",
       "</div>"
      ],
      "text/plain": [
       "     Unnamed: 0  overall  verified   reviewTime      reviewerID       asin  \\\n",
       "0             0      4.0      True  03 11, 2014  A240ORQ2LF9LUI   77613252   \n",
       "1             1      4.0      True  02 23, 2014  A1YCCU0YRLS0FE   77613252   \n",
       "2             2      1.0      True  02 17, 2014  A1BJHRQDYVAY2J   77613252   \n",
       "3             3      3.0      True  02 17, 2014   APRDVZ6QBIQXT   77613252   \n",
       "4             4      5.0     False  10 14, 2013  A2JZTTBSLS1QXV   77775473   \n",
       "..          ...      ...       ...          ...             ...        ...   \n",
       "495         495      5.0      True  08 25, 2016  A32MA3S8NH50MC  763855553   \n",
       "496         496      2.0     False  08 25, 2016  A1V37CXJZCMSA0  763855553   \n",
       "497         497      5.0      True  08 19, 2016  A1N7GDU53M4HGO  763855553   \n",
       "498         498      5.0      True  08 18, 2016  A2FU6HP81I7FCX  763855553   \n",
       "499         499      4.0      True  08 11, 2016  A2RWZOCT8A2LOC  763855553   \n",
       "\n",
       "                          style         reviewerName  \\\n",
       "0    {'format:': ' loose leaf'}           michelle w   \n",
       "1    {'format:': ' loose leaf'}  rosalind white ames   \n",
       "2    {'format:': ' loose leaf'}       allan r. baker   \n",
       "3    {'format:': ' loose leaf'}                 lucy   \n",
       "4                           NaN            albert v.   \n",
       "..                          ...                  ...   \n",
       "495                         NaN        nancy peacock   \n",
       "496                         NaN                saulb   \n",
       "497                         NaN         robert hicks   \n",
       "498                         NaN         eric pickett   \n",
       "499                         NaN                   rb   \n",
       "\n",
       "                                            reviewText  \\\n",
       "0    the materials arrived early and were in excell...   \n",
       "1    i am really enjoying this book with the worksh...   \n",
       "2    if you are taking this class don\"t waste your ...   \n",
       "3    this book was missing pages!!! important pages...   \n",
       "4    i have used learnsmart and can officially say ...   \n",
       "..                                                 ...   \n",
       "495  i don't used this my grandson does and he love...   \n",
       "496  we installed 365 about 6 months ago and it com...   \n",
       "497                         great product. as expected   \n",
       "498                                       worked great   \n",
       "499                                        works fine.   \n",
       "\n",
       "                                     summary  unixReviewTime  vote image  \n",
       "0                             material great      1394496000   NaN   NaN  \n",
       "1                                     health      1393113600   NaN   NaN  \n",
       "2                         are you kiding me?      1392595200   7.0   NaN  \n",
       "3                            missing pages!!      1392595200   3.0   NaN  \n",
       "4              best study product out there!      1381708800   NaN   NaN  \n",
       "..                                       ...             ...   ...   ...  \n",
       "495                               five stars      1472083200   NaN   NaN  \n",
       "496  365 still has bugs that need worked out      1472083200   NaN   NaN  \n",
       "497                               five stars      1471564800   NaN   NaN  \n",
       "498                             worked great      1471478400   2.0   NaN  \n",
       "499                               four stars      1470873600   NaN   NaN  \n",
       "\n",
       "[500 rows x 13 columns]"
      ]
     },
     "execution_count": 12,
     "metadata": {},
     "output_type": "execute_result"
    }
   ],
   "source": [
    "df"
   ]
  },
  {
   "cell_type": "markdown",
   "metadata": {},
   "source": [
    "# Remove URLs"
   ]
  },
  {
   "cell_type": "code",
   "execution_count": 13,
   "metadata": {
    "execution": {
     "iopub.execute_input": "2024-08-22T10:43:13.398913Z",
     "iopub.status.busy": "2024-08-22T10:43:13.398392Z",
     "iopub.status.idle": "2024-08-22T10:43:13.404737Z",
     "shell.execute_reply": "2024-08-22T10:43:13.403476Z",
     "shell.execute_reply.started": "2024-08-22T10:43:13.398868Z"
    }
   },
   "outputs": [],
   "source": [
    "def remove_url(text):\n",
    "    pattern = re.compile(r'https?://\\S+|www.\\.\\S+')\n",
    "    return pattern.sub(r'', text)"
   ]
  },
  {
   "cell_type": "code",
   "execution_count": 14,
   "metadata": {},
   "outputs": [],
   "source": [
    "import re\n",
    "\n",
    "def remove_url(text):\n",
    "    if isinstance(text, str):  # Ensure the input is a string\n",
    "        pattern = re.compile(r'https?://\\S+|www\\.\\S+')  # Correct regex for URLs\n",
    "        return pattern.sub(r'', text)\n",
    "    else:\n",
    "        return text  # Return unchanged if not a string\n"
   ]
  },
  {
   "cell_type": "code",
   "execution_count": 15,
   "metadata": {},
   "outputs": [],
   "source": [
    "df['style'] = df['style'].apply(remove_url)\n",
    "df['reviewerName'] = df['reviewerName'].apply(remove_url)\n",
    "df['reviewText'] = df['reviewText'].apply(remove_url)\n",
    "df['summary'] = df['summary'].apply(remove_url)"
   ]
  },
  {
   "cell_type": "code",
   "execution_count": 16,
   "metadata": {
    "execution": {
     "iopub.execute_input": "2024-08-22T10:43:34.909839Z",
     "iopub.status.busy": "2024-08-22T10:43:34.909319Z",
     "iopub.status.idle": "2024-08-22T10:43:34.922891Z",
     "shell.execute_reply": "2024-08-22T10:43:34.921673Z",
     "shell.execute_reply.started": "2024-08-22T10:43:34.909790Z"
    }
   },
   "outputs": [
    {
     "data": {
      "text/html": [
       "<div>\n",
       "<style scoped>\n",
       "    .dataframe tbody tr th:only-of-type {\n",
       "        vertical-align: middle;\n",
       "    }\n",
       "\n",
       "    .dataframe tbody tr th {\n",
       "        vertical-align: top;\n",
       "    }\n",
       "\n",
       "    .dataframe thead th {\n",
       "        text-align: right;\n",
       "    }\n",
       "</style>\n",
       "<table border=\"1\" class=\"dataframe\">\n",
       "  <thead>\n",
       "    <tr style=\"text-align: right;\">\n",
       "      <th></th>\n",
       "      <th>Unnamed: 0</th>\n",
       "      <th>overall</th>\n",
       "      <th>verified</th>\n",
       "      <th>reviewTime</th>\n",
       "      <th>reviewerID</th>\n",
       "      <th>asin</th>\n",
       "      <th>style</th>\n",
       "      <th>reviewerName</th>\n",
       "      <th>reviewText</th>\n",
       "      <th>summary</th>\n",
       "      <th>unixReviewTime</th>\n",
       "      <th>vote</th>\n",
       "      <th>image</th>\n",
       "    </tr>\n",
       "  </thead>\n",
       "  <tbody>\n",
       "    <tr>\n",
       "      <th>0</th>\n",
       "      <td>0</td>\n",
       "      <td>4.0</td>\n",
       "      <td>True</td>\n",
       "      <td>03 11, 2014</td>\n",
       "      <td>A240ORQ2LF9LUI</td>\n",
       "      <td>77613252</td>\n",
       "      <td>{'format:': ' loose leaf'}</td>\n",
       "      <td>michelle w</td>\n",
       "      <td>the materials arrived early and were in excell...</td>\n",
       "      <td>material great</td>\n",
       "      <td>1394496000</td>\n",
       "      <td>NaN</td>\n",
       "      <td>NaN</td>\n",
       "    </tr>\n",
       "    <tr>\n",
       "      <th>1</th>\n",
       "      <td>1</td>\n",
       "      <td>4.0</td>\n",
       "      <td>True</td>\n",
       "      <td>02 23, 2014</td>\n",
       "      <td>A1YCCU0YRLS0FE</td>\n",
       "      <td>77613252</td>\n",
       "      <td>{'format:': ' loose leaf'}</td>\n",
       "      <td>rosalind white ames</td>\n",
       "      <td>i am really enjoying this book with the worksh...</td>\n",
       "      <td>health</td>\n",
       "      <td>1393113600</td>\n",
       "      <td>NaN</td>\n",
       "      <td>NaN</td>\n",
       "    </tr>\n",
       "    <tr>\n",
       "      <th>2</th>\n",
       "      <td>2</td>\n",
       "      <td>1.0</td>\n",
       "      <td>True</td>\n",
       "      <td>02 17, 2014</td>\n",
       "      <td>A1BJHRQDYVAY2J</td>\n",
       "      <td>77613252</td>\n",
       "      <td>{'format:': ' loose leaf'}</td>\n",
       "      <td>allan r. baker</td>\n",
       "      <td>if you are taking this class don\"t waste your ...</td>\n",
       "      <td>are you kiding me?</td>\n",
       "      <td>1392595200</td>\n",
       "      <td>7.0</td>\n",
       "      <td>NaN</td>\n",
       "    </tr>\n",
       "    <tr>\n",
       "      <th>3</th>\n",
       "      <td>3</td>\n",
       "      <td>3.0</td>\n",
       "      <td>True</td>\n",
       "      <td>02 17, 2014</td>\n",
       "      <td>APRDVZ6QBIQXT</td>\n",
       "      <td>77613252</td>\n",
       "      <td>{'format:': ' loose leaf'}</td>\n",
       "      <td>lucy</td>\n",
       "      <td>this book was missing pages!!! important pages...</td>\n",
       "      <td>missing pages!!</td>\n",
       "      <td>1392595200</td>\n",
       "      <td>3.0</td>\n",
       "      <td>NaN</td>\n",
       "    </tr>\n",
       "    <tr>\n",
       "      <th>4</th>\n",
       "      <td>4</td>\n",
       "      <td>5.0</td>\n",
       "      <td>False</td>\n",
       "      <td>10 14, 2013</td>\n",
       "      <td>A2JZTTBSLS1QXV</td>\n",
       "      <td>77775473</td>\n",
       "      <td>NaN</td>\n",
       "      <td>albert v.</td>\n",
       "      <td>i have used learnsmart and can officially say ...</td>\n",
       "      <td>best study product out there!</td>\n",
       "      <td>1381708800</td>\n",
       "      <td>NaN</td>\n",
       "      <td>NaN</td>\n",
       "    </tr>\n",
       "    <tr>\n",
       "      <th>...</th>\n",
       "      <td>...</td>\n",
       "      <td>...</td>\n",
       "      <td>...</td>\n",
       "      <td>...</td>\n",
       "      <td>...</td>\n",
       "      <td>...</td>\n",
       "      <td>...</td>\n",
       "      <td>...</td>\n",
       "      <td>...</td>\n",
       "      <td>...</td>\n",
       "      <td>...</td>\n",
       "      <td>...</td>\n",
       "      <td>...</td>\n",
       "    </tr>\n",
       "    <tr>\n",
       "      <th>495</th>\n",
       "      <td>495</td>\n",
       "      <td>5.0</td>\n",
       "      <td>True</td>\n",
       "      <td>08 25, 2016</td>\n",
       "      <td>A32MA3S8NH50MC</td>\n",
       "      <td>763855553</td>\n",
       "      <td>NaN</td>\n",
       "      <td>nancy peacock</td>\n",
       "      <td>i don't used this my grandson does and he love...</td>\n",
       "      <td>five stars</td>\n",
       "      <td>1472083200</td>\n",
       "      <td>NaN</td>\n",
       "      <td>NaN</td>\n",
       "    </tr>\n",
       "    <tr>\n",
       "      <th>496</th>\n",
       "      <td>496</td>\n",
       "      <td>2.0</td>\n",
       "      <td>False</td>\n",
       "      <td>08 25, 2016</td>\n",
       "      <td>A1V37CXJZCMSA0</td>\n",
       "      <td>763855553</td>\n",
       "      <td>NaN</td>\n",
       "      <td>saulb</td>\n",
       "      <td>we installed 365 about 6 months ago and it com...</td>\n",
       "      <td>365 still has bugs that need worked out</td>\n",
       "      <td>1472083200</td>\n",
       "      <td>NaN</td>\n",
       "      <td>NaN</td>\n",
       "    </tr>\n",
       "    <tr>\n",
       "      <th>497</th>\n",
       "      <td>497</td>\n",
       "      <td>5.0</td>\n",
       "      <td>True</td>\n",
       "      <td>08 19, 2016</td>\n",
       "      <td>A1N7GDU53M4HGO</td>\n",
       "      <td>763855553</td>\n",
       "      <td>NaN</td>\n",
       "      <td>robert hicks</td>\n",
       "      <td>great product. as expected</td>\n",
       "      <td>five stars</td>\n",
       "      <td>1471564800</td>\n",
       "      <td>NaN</td>\n",
       "      <td>NaN</td>\n",
       "    </tr>\n",
       "    <tr>\n",
       "      <th>498</th>\n",
       "      <td>498</td>\n",
       "      <td>5.0</td>\n",
       "      <td>True</td>\n",
       "      <td>08 18, 2016</td>\n",
       "      <td>A2FU6HP81I7FCX</td>\n",
       "      <td>763855553</td>\n",
       "      <td>NaN</td>\n",
       "      <td>eric pickett</td>\n",
       "      <td>worked great</td>\n",
       "      <td>worked great</td>\n",
       "      <td>1471478400</td>\n",
       "      <td>2.0</td>\n",
       "      <td>NaN</td>\n",
       "    </tr>\n",
       "    <tr>\n",
       "      <th>499</th>\n",
       "      <td>499</td>\n",
       "      <td>4.0</td>\n",
       "      <td>True</td>\n",
       "      <td>08 11, 2016</td>\n",
       "      <td>A2RWZOCT8A2LOC</td>\n",
       "      <td>763855553</td>\n",
       "      <td>NaN</td>\n",
       "      <td>rb</td>\n",
       "      <td>works fine.</td>\n",
       "      <td>four stars</td>\n",
       "      <td>1470873600</td>\n",
       "      <td>NaN</td>\n",
       "      <td>NaN</td>\n",
       "    </tr>\n",
       "  </tbody>\n",
       "</table>\n",
       "<p>500 rows × 13 columns</p>\n",
       "</div>"
      ],
      "text/plain": [
       "     Unnamed: 0  overall  verified   reviewTime      reviewerID       asin  \\\n",
       "0             0      4.0      True  03 11, 2014  A240ORQ2LF9LUI   77613252   \n",
       "1             1      4.0      True  02 23, 2014  A1YCCU0YRLS0FE   77613252   \n",
       "2             2      1.0      True  02 17, 2014  A1BJHRQDYVAY2J   77613252   \n",
       "3             3      3.0      True  02 17, 2014   APRDVZ6QBIQXT   77613252   \n",
       "4             4      5.0     False  10 14, 2013  A2JZTTBSLS1QXV   77775473   \n",
       "..          ...      ...       ...          ...             ...        ...   \n",
       "495         495      5.0      True  08 25, 2016  A32MA3S8NH50MC  763855553   \n",
       "496         496      2.0     False  08 25, 2016  A1V37CXJZCMSA0  763855553   \n",
       "497         497      5.0      True  08 19, 2016  A1N7GDU53M4HGO  763855553   \n",
       "498         498      5.0      True  08 18, 2016  A2FU6HP81I7FCX  763855553   \n",
       "499         499      4.0      True  08 11, 2016  A2RWZOCT8A2LOC  763855553   \n",
       "\n",
       "                          style         reviewerName  \\\n",
       "0    {'format:': ' loose leaf'}           michelle w   \n",
       "1    {'format:': ' loose leaf'}  rosalind white ames   \n",
       "2    {'format:': ' loose leaf'}       allan r. baker   \n",
       "3    {'format:': ' loose leaf'}                 lucy   \n",
       "4                           NaN            albert v.   \n",
       "..                          ...                  ...   \n",
       "495                         NaN        nancy peacock   \n",
       "496                         NaN                saulb   \n",
       "497                         NaN         robert hicks   \n",
       "498                         NaN         eric pickett   \n",
       "499                         NaN                   rb   \n",
       "\n",
       "                                            reviewText  \\\n",
       "0    the materials arrived early and were in excell...   \n",
       "1    i am really enjoying this book with the worksh...   \n",
       "2    if you are taking this class don\"t waste your ...   \n",
       "3    this book was missing pages!!! important pages...   \n",
       "4    i have used learnsmart and can officially say ...   \n",
       "..                                                 ...   \n",
       "495  i don't used this my grandson does and he love...   \n",
       "496  we installed 365 about 6 months ago and it com...   \n",
       "497                         great product. as expected   \n",
       "498                                       worked great   \n",
       "499                                        works fine.   \n",
       "\n",
       "                                     summary  unixReviewTime  vote image  \n",
       "0                             material great      1394496000   NaN   NaN  \n",
       "1                                     health      1393113600   NaN   NaN  \n",
       "2                         are you kiding me?      1392595200   7.0   NaN  \n",
       "3                            missing pages!!      1392595200   3.0   NaN  \n",
       "4              best study product out there!      1381708800   NaN   NaN  \n",
       "..                                       ...             ...   ...   ...  \n",
       "495                               five stars      1472083200   NaN   NaN  \n",
       "496  365 still has bugs that need worked out      1472083200   NaN   NaN  \n",
       "497                               five stars      1471564800   NaN   NaN  \n",
       "498                             worked great      1471478400   2.0   NaN  \n",
       "499                               four stars      1470873600   NaN   NaN  \n",
       "\n",
       "[500 rows x 13 columns]"
      ]
     },
     "execution_count": 16,
     "metadata": {},
     "output_type": "execute_result"
    }
   ],
   "source": [
    "df"
   ]
  },
  {
   "cell_type": "markdown",
   "metadata": {},
   "source": [
    "# Remove Punctuaton"
   ]
  },
  {
   "cell_type": "code",
   "execution_count": 17,
   "metadata": {
    "execution": {
     "iopub.execute_input": "2024-08-22T10:43:59.575963Z",
     "iopub.status.busy": "2024-08-22T10:43:59.575543Z",
     "iopub.status.idle": "2024-08-22T10:43:59.583077Z",
     "shell.execute_reply": "2024-08-22T10:43:59.581776Z",
     "shell.execute_reply.started": "2024-08-22T10:43:59.575922Z"
    }
   },
   "outputs": [
    {
     "data": {
      "text/plain": [
       "'!\"#$%&\\'()*+,-./:;<=>?@[\\\\]^_`{|}~'"
      ]
     },
     "execution_count": 17,
     "metadata": {},
     "output_type": "execute_result"
    }
   ],
   "source": [
    "import string,time\n",
    "string.punctuation"
   ]
  },
  {
   "cell_type": "code",
   "execution_count": 18,
   "metadata": {
    "execution": {
     "iopub.execute_input": "2024-08-22T10:44:09.716090Z",
     "iopub.status.busy": "2024-08-22T10:44:09.715675Z",
     "iopub.status.idle": "2024-08-22T10:44:09.721125Z",
     "shell.execute_reply": "2024-08-22T10:44:09.719676Z",
     "shell.execute_reply.started": "2024-08-22T10:44:09.716049Z"
    }
   },
   "outputs": [],
   "source": [
    "exclude = string.punctuation"
   ]
  },
  {
   "cell_type": "code",
   "execution_count": 19,
   "metadata": {
    "execution": {
     "iopub.execute_input": "2024-08-22T10:44:24.572711Z",
     "iopub.status.busy": "2024-08-22T10:44:24.571870Z",
     "iopub.status.idle": "2024-08-22T10:44:24.577677Z",
     "shell.execute_reply": "2024-08-22T10:44:24.576506Z",
     "shell.execute_reply.started": "2024-08-22T10:44:24.572664Z"
    }
   },
   "outputs": [],
   "source": [
    "def remove_punc1(text):\n",
    "    return text.translate(str.maketrans('','',exclude))"
   ]
  },
  {
   "cell_type": "code",
   "execution_count": 20,
   "metadata": {},
   "outputs": [],
   "source": [
    "df['style'] = df['style'].astype(str).apply(remove_punc1)\n",
    "df['reviewerName'] = df['reviewerName'].astype(str).apply(remove_punc1)\n",
    "df['reviewText'] = df['reviewText'].astype(str).apply(remove_punc1)\n",
    "df['summary'] = df['summary'].astype(str).apply(remove_punc1)"
   ]
  },
  {
   "cell_type": "code",
   "execution_count": 21,
   "metadata": {
    "execution": {
     "iopub.execute_input": "2024-08-22T10:44:47.655058Z",
     "iopub.status.busy": "2024-08-22T10:44:47.654614Z",
     "iopub.status.idle": "2024-08-22T10:44:47.669859Z",
     "shell.execute_reply": "2024-08-22T10:44:47.668549Z",
     "shell.execute_reply.started": "2024-08-22T10:44:47.655017Z"
    }
   },
   "outputs": [
    {
     "data": {
      "text/html": [
       "<div>\n",
       "<style scoped>\n",
       "    .dataframe tbody tr th:only-of-type {\n",
       "        vertical-align: middle;\n",
       "    }\n",
       "\n",
       "    .dataframe tbody tr th {\n",
       "        vertical-align: top;\n",
       "    }\n",
       "\n",
       "    .dataframe thead th {\n",
       "        text-align: right;\n",
       "    }\n",
       "</style>\n",
       "<table border=\"1\" class=\"dataframe\">\n",
       "  <thead>\n",
       "    <tr style=\"text-align: right;\">\n",
       "      <th></th>\n",
       "      <th>Unnamed: 0</th>\n",
       "      <th>overall</th>\n",
       "      <th>verified</th>\n",
       "      <th>reviewTime</th>\n",
       "      <th>reviewerID</th>\n",
       "      <th>asin</th>\n",
       "      <th>style</th>\n",
       "      <th>reviewerName</th>\n",
       "      <th>reviewText</th>\n",
       "      <th>summary</th>\n",
       "      <th>unixReviewTime</th>\n",
       "      <th>vote</th>\n",
       "      <th>image</th>\n",
       "    </tr>\n",
       "  </thead>\n",
       "  <tbody>\n",
       "    <tr>\n",
       "      <th>0</th>\n",
       "      <td>0</td>\n",
       "      <td>4.0</td>\n",
       "      <td>True</td>\n",
       "      <td>03 11, 2014</td>\n",
       "      <td>A240ORQ2LF9LUI</td>\n",
       "      <td>77613252</td>\n",
       "      <td>format  loose leaf</td>\n",
       "      <td>michelle w</td>\n",
       "      <td>the materials arrived early and were in excell...</td>\n",
       "      <td>material great</td>\n",
       "      <td>1394496000</td>\n",
       "      <td>NaN</td>\n",
       "      <td>NaN</td>\n",
       "    </tr>\n",
       "    <tr>\n",
       "      <th>1</th>\n",
       "      <td>1</td>\n",
       "      <td>4.0</td>\n",
       "      <td>True</td>\n",
       "      <td>02 23, 2014</td>\n",
       "      <td>A1YCCU0YRLS0FE</td>\n",
       "      <td>77613252</td>\n",
       "      <td>format  loose leaf</td>\n",
       "      <td>rosalind white ames</td>\n",
       "      <td>i am really enjoying this book with the worksh...</td>\n",
       "      <td>health</td>\n",
       "      <td>1393113600</td>\n",
       "      <td>NaN</td>\n",
       "      <td>NaN</td>\n",
       "    </tr>\n",
       "    <tr>\n",
       "      <th>2</th>\n",
       "      <td>2</td>\n",
       "      <td>1.0</td>\n",
       "      <td>True</td>\n",
       "      <td>02 17, 2014</td>\n",
       "      <td>A1BJHRQDYVAY2J</td>\n",
       "      <td>77613252</td>\n",
       "      <td>format  loose leaf</td>\n",
       "      <td>allan r baker</td>\n",
       "      <td>if you are taking this class dont waste your m...</td>\n",
       "      <td>are you kiding me</td>\n",
       "      <td>1392595200</td>\n",
       "      <td>7.0</td>\n",
       "      <td>NaN</td>\n",
       "    </tr>\n",
       "    <tr>\n",
       "      <th>3</th>\n",
       "      <td>3</td>\n",
       "      <td>3.0</td>\n",
       "      <td>True</td>\n",
       "      <td>02 17, 2014</td>\n",
       "      <td>APRDVZ6QBIQXT</td>\n",
       "      <td>77613252</td>\n",
       "      <td>format  loose leaf</td>\n",
       "      <td>lucy</td>\n",
       "      <td>this book was missing pages important pages i ...</td>\n",
       "      <td>missing pages</td>\n",
       "      <td>1392595200</td>\n",
       "      <td>3.0</td>\n",
       "      <td>NaN</td>\n",
       "    </tr>\n",
       "    <tr>\n",
       "      <th>4</th>\n",
       "      <td>4</td>\n",
       "      <td>5.0</td>\n",
       "      <td>False</td>\n",
       "      <td>10 14, 2013</td>\n",
       "      <td>A2JZTTBSLS1QXV</td>\n",
       "      <td>77775473</td>\n",
       "      <td>nan</td>\n",
       "      <td>albert v</td>\n",
       "      <td>i have used learnsmart and can officially say ...</td>\n",
       "      <td>best study product out there</td>\n",
       "      <td>1381708800</td>\n",
       "      <td>NaN</td>\n",
       "      <td>NaN</td>\n",
       "    </tr>\n",
       "    <tr>\n",
       "      <th>...</th>\n",
       "      <td>...</td>\n",
       "      <td>...</td>\n",
       "      <td>...</td>\n",
       "      <td>...</td>\n",
       "      <td>...</td>\n",
       "      <td>...</td>\n",
       "      <td>...</td>\n",
       "      <td>...</td>\n",
       "      <td>...</td>\n",
       "      <td>...</td>\n",
       "      <td>...</td>\n",
       "      <td>...</td>\n",
       "      <td>...</td>\n",
       "    </tr>\n",
       "    <tr>\n",
       "      <th>495</th>\n",
       "      <td>495</td>\n",
       "      <td>5.0</td>\n",
       "      <td>True</td>\n",
       "      <td>08 25, 2016</td>\n",
       "      <td>A32MA3S8NH50MC</td>\n",
       "      <td>763855553</td>\n",
       "      <td>nan</td>\n",
       "      <td>nancy peacock</td>\n",
       "      <td>i dont used this my grandson does and he loves it</td>\n",
       "      <td>five stars</td>\n",
       "      <td>1472083200</td>\n",
       "      <td>NaN</td>\n",
       "      <td>NaN</td>\n",
       "    </tr>\n",
       "    <tr>\n",
       "      <th>496</th>\n",
       "      <td>496</td>\n",
       "      <td>2.0</td>\n",
       "      <td>False</td>\n",
       "      <td>08 25, 2016</td>\n",
       "      <td>A1V37CXJZCMSA0</td>\n",
       "      <td>763855553</td>\n",
       "      <td>nan</td>\n",
       "      <td>saulb</td>\n",
       "      <td>we installed 365 about 6 months ago and it com...</td>\n",
       "      <td>365 still has bugs that need worked out</td>\n",
       "      <td>1472083200</td>\n",
       "      <td>NaN</td>\n",
       "      <td>NaN</td>\n",
       "    </tr>\n",
       "    <tr>\n",
       "      <th>497</th>\n",
       "      <td>497</td>\n",
       "      <td>5.0</td>\n",
       "      <td>True</td>\n",
       "      <td>08 19, 2016</td>\n",
       "      <td>A1N7GDU53M4HGO</td>\n",
       "      <td>763855553</td>\n",
       "      <td>nan</td>\n",
       "      <td>robert hicks</td>\n",
       "      <td>great product as expected</td>\n",
       "      <td>five stars</td>\n",
       "      <td>1471564800</td>\n",
       "      <td>NaN</td>\n",
       "      <td>NaN</td>\n",
       "    </tr>\n",
       "    <tr>\n",
       "      <th>498</th>\n",
       "      <td>498</td>\n",
       "      <td>5.0</td>\n",
       "      <td>True</td>\n",
       "      <td>08 18, 2016</td>\n",
       "      <td>A2FU6HP81I7FCX</td>\n",
       "      <td>763855553</td>\n",
       "      <td>nan</td>\n",
       "      <td>eric pickett</td>\n",
       "      <td>worked great</td>\n",
       "      <td>worked great</td>\n",
       "      <td>1471478400</td>\n",
       "      <td>2.0</td>\n",
       "      <td>NaN</td>\n",
       "    </tr>\n",
       "    <tr>\n",
       "      <th>499</th>\n",
       "      <td>499</td>\n",
       "      <td>4.0</td>\n",
       "      <td>True</td>\n",
       "      <td>08 11, 2016</td>\n",
       "      <td>A2RWZOCT8A2LOC</td>\n",
       "      <td>763855553</td>\n",
       "      <td>nan</td>\n",
       "      <td>rb</td>\n",
       "      <td>works fine</td>\n",
       "      <td>four stars</td>\n",
       "      <td>1470873600</td>\n",
       "      <td>NaN</td>\n",
       "      <td>NaN</td>\n",
       "    </tr>\n",
       "  </tbody>\n",
       "</table>\n",
       "<p>500 rows × 13 columns</p>\n",
       "</div>"
      ],
      "text/plain": [
       "     Unnamed: 0  overall  verified   reviewTime      reviewerID       asin  \\\n",
       "0             0      4.0      True  03 11, 2014  A240ORQ2LF9LUI   77613252   \n",
       "1             1      4.0      True  02 23, 2014  A1YCCU0YRLS0FE   77613252   \n",
       "2             2      1.0      True  02 17, 2014  A1BJHRQDYVAY2J   77613252   \n",
       "3             3      3.0      True  02 17, 2014   APRDVZ6QBIQXT   77613252   \n",
       "4             4      5.0     False  10 14, 2013  A2JZTTBSLS1QXV   77775473   \n",
       "..          ...      ...       ...          ...             ...        ...   \n",
       "495         495      5.0      True  08 25, 2016  A32MA3S8NH50MC  763855553   \n",
       "496         496      2.0     False  08 25, 2016  A1V37CXJZCMSA0  763855553   \n",
       "497         497      5.0      True  08 19, 2016  A1N7GDU53M4HGO  763855553   \n",
       "498         498      5.0      True  08 18, 2016  A2FU6HP81I7FCX  763855553   \n",
       "499         499      4.0      True  08 11, 2016  A2RWZOCT8A2LOC  763855553   \n",
       "\n",
       "                  style         reviewerName  \\\n",
       "0    format  loose leaf           michelle w   \n",
       "1    format  loose leaf  rosalind white ames   \n",
       "2    format  loose leaf        allan r baker   \n",
       "3    format  loose leaf                 lucy   \n",
       "4                   nan             albert v   \n",
       "..                  ...                  ...   \n",
       "495                 nan        nancy peacock   \n",
       "496                 nan                saulb   \n",
       "497                 nan         robert hicks   \n",
       "498                 nan         eric pickett   \n",
       "499                 nan                   rb   \n",
       "\n",
       "                                            reviewText  \\\n",
       "0    the materials arrived early and were in excell...   \n",
       "1    i am really enjoying this book with the worksh...   \n",
       "2    if you are taking this class dont waste your m...   \n",
       "3    this book was missing pages important pages i ...   \n",
       "4    i have used learnsmart and can officially say ...   \n",
       "..                                                 ...   \n",
       "495  i dont used this my grandson does and he loves it   \n",
       "496  we installed 365 about 6 months ago and it com...   \n",
       "497                          great product as expected   \n",
       "498                                       worked great   \n",
       "499                                         works fine   \n",
       "\n",
       "                                     summary  unixReviewTime  vote image  \n",
       "0                             material great      1394496000   NaN   NaN  \n",
       "1                                     health      1393113600   NaN   NaN  \n",
       "2                          are you kiding me      1392595200   7.0   NaN  \n",
       "3                              missing pages      1392595200   3.0   NaN  \n",
       "4               best study product out there      1381708800   NaN   NaN  \n",
       "..                                       ...             ...   ...   ...  \n",
       "495                               five stars      1472083200   NaN   NaN  \n",
       "496  365 still has bugs that need worked out      1472083200   NaN   NaN  \n",
       "497                               five stars      1471564800   NaN   NaN  \n",
       "498                             worked great      1471478400   2.0   NaN  \n",
       "499                               four stars      1470873600   NaN   NaN  \n",
       "\n",
       "[500 rows x 13 columns]"
      ]
     },
     "execution_count": 21,
     "metadata": {},
     "output_type": "execute_result"
    }
   ],
   "source": [
    "df"
   ]
  },
  {
   "cell_type": "markdown",
   "metadata": {},
   "source": [
    "# Removing Stop Words"
   ]
  },
  {
   "cell_type": "code",
   "execution_count": 22,
   "metadata": {
    "execution": {
     "iopub.execute_input": "2024-08-22T10:45:43.190124Z",
     "iopub.status.busy": "2024-08-22T10:45:43.189662Z",
     "iopub.status.idle": "2024-08-22T10:45:44.671680Z",
     "shell.execute_reply": "2024-08-22T10:45:44.670516Z",
     "shell.execute_reply.started": "2024-08-22T10:45:43.190081Z"
    }
   },
   "outputs": [],
   "source": [
    "from nltk.corpus import stopwords"
   ]
  },
  {
   "cell_type": "code",
   "execution_count": 23,
   "metadata": {
    "execution": {
     "iopub.execute_input": "2024-08-22T10:46:01.354880Z",
     "iopub.status.busy": "2024-08-22T10:46:01.354253Z",
     "iopub.status.idle": "2024-08-22T10:46:01.375607Z",
     "shell.execute_reply": "2024-08-22T10:46:01.374312Z",
     "shell.execute_reply.started": "2024-08-22T10:46:01.354836Z"
    }
   },
   "outputs": [
    {
     "data": {
      "text/plain": [
       "['i',\n",
       " 'me',\n",
       " 'my',\n",
       " 'myself',\n",
       " 'we',\n",
       " 'our',\n",
       " 'ours',\n",
       " 'ourselves',\n",
       " 'you',\n",
       " \"you're\",\n",
       " \"you've\",\n",
       " \"you'll\",\n",
       " \"you'd\",\n",
       " 'your',\n",
       " 'yours',\n",
       " 'yourself',\n",
       " 'yourselves',\n",
       " 'he',\n",
       " 'him',\n",
       " 'his',\n",
       " 'himself',\n",
       " 'she',\n",
       " \"she's\",\n",
       " 'her',\n",
       " 'hers',\n",
       " 'herself',\n",
       " 'it',\n",
       " \"it's\",\n",
       " 'its',\n",
       " 'itself',\n",
       " 'they',\n",
       " 'them',\n",
       " 'their',\n",
       " 'theirs',\n",
       " 'themselves',\n",
       " 'what',\n",
       " 'which',\n",
       " 'who',\n",
       " 'whom',\n",
       " 'this',\n",
       " 'that',\n",
       " \"that'll\",\n",
       " 'these',\n",
       " 'those',\n",
       " 'am',\n",
       " 'is',\n",
       " 'are',\n",
       " 'was',\n",
       " 'were',\n",
       " 'be',\n",
       " 'been',\n",
       " 'being',\n",
       " 'have',\n",
       " 'has',\n",
       " 'had',\n",
       " 'having',\n",
       " 'do',\n",
       " 'does',\n",
       " 'did',\n",
       " 'doing',\n",
       " 'a',\n",
       " 'an',\n",
       " 'the',\n",
       " 'and',\n",
       " 'but',\n",
       " 'if',\n",
       " 'or',\n",
       " 'because',\n",
       " 'as',\n",
       " 'until',\n",
       " 'while',\n",
       " 'of',\n",
       " 'at',\n",
       " 'by',\n",
       " 'for',\n",
       " 'with',\n",
       " 'about',\n",
       " 'against',\n",
       " 'between',\n",
       " 'into',\n",
       " 'through',\n",
       " 'during',\n",
       " 'before',\n",
       " 'after',\n",
       " 'above',\n",
       " 'below',\n",
       " 'to',\n",
       " 'from',\n",
       " 'up',\n",
       " 'down',\n",
       " 'in',\n",
       " 'out',\n",
       " 'on',\n",
       " 'off',\n",
       " 'over',\n",
       " 'under',\n",
       " 'again',\n",
       " 'further',\n",
       " 'then',\n",
       " 'once',\n",
       " 'here',\n",
       " 'there',\n",
       " 'when',\n",
       " 'where',\n",
       " 'why',\n",
       " 'how',\n",
       " 'all',\n",
       " 'any',\n",
       " 'both',\n",
       " 'each',\n",
       " 'few',\n",
       " 'more',\n",
       " 'most',\n",
       " 'other',\n",
       " 'some',\n",
       " 'such',\n",
       " 'no',\n",
       " 'nor',\n",
       " 'not',\n",
       " 'only',\n",
       " 'own',\n",
       " 'same',\n",
       " 'so',\n",
       " 'than',\n",
       " 'too',\n",
       " 'very',\n",
       " 's',\n",
       " 't',\n",
       " 'can',\n",
       " 'will',\n",
       " 'just',\n",
       " 'don',\n",
       " \"don't\",\n",
       " 'should',\n",
       " \"should've\",\n",
       " 'now',\n",
       " 'd',\n",
       " 'll',\n",
       " 'm',\n",
       " 'o',\n",
       " 're',\n",
       " 've',\n",
       " 'y',\n",
       " 'ain',\n",
       " 'aren',\n",
       " \"aren't\",\n",
       " 'couldn',\n",
       " \"couldn't\",\n",
       " 'didn',\n",
       " \"didn't\",\n",
       " 'doesn',\n",
       " \"doesn't\",\n",
       " 'hadn',\n",
       " \"hadn't\",\n",
       " 'hasn',\n",
       " \"hasn't\",\n",
       " 'haven',\n",
       " \"haven't\",\n",
       " 'isn',\n",
       " \"isn't\",\n",
       " 'ma',\n",
       " 'mightn',\n",
       " \"mightn't\",\n",
       " 'mustn',\n",
       " \"mustn't\",\n",
       " 'needn',\n",
       " \"needn't\",\n",
       " 'shan',\n",
       " \"shan't\",\n",
       " 'shouldn',\n",
       " \"shouldn't\",\n",
       " 'wasn',\n",
       " \"wasn't\",\n",
       " 'weren',\n",
       " \"weren't\",\n",
       " 'won',\n",
       " \"won't\",\n",
       " 'wouldn',\n",
       " \"wouldn't\"]"
      ]
     },
     "execution_count": 23,
     "metadata": {},
     "output_type": "execute_result"
    }
   ],
   "source": [
    "stopwords.words('english')"
   ]
  },
  {
   "cell_type": "code",
   "execution_count": 24,
   "metadata": {
    "execution": {
     "iopub.execute_input": "2024-08-22T10:46:26.513943Z",
     "iopub.status.busy": "2024-08-22T10:46:26.513509Z",
     "iopub.status.idle": "2024-08-22T10:46:26.521481Z",
     "shell.execute_reply": "2024-08-22T10:46:26.520227Z",
     "shell.execute_reply.started": "2024-08-22T10:46:26.513902Z"
    }
   },
   "outputs": [],
   "source": [
    "def remove_stopwords(text):\n",
    "    new_text = []\n",
    "    \n",
    "    for word in text.split():\n",
    "        if word in stopwords.words('english'):\n",
    "            new_text.append('')\n",
    "        else:\n",
    "            new_text.append(word)\n",
    "    x = new_text[:]\n",
    "    new_text.clear()\n",
    "    return \" \".join(x)"
   ]
  },
  {
   "cell_type": "code",
   "execution_count": 25,
   "metadata": {},
   "outputs": [],
   "source": [
    "df['style'] = df['style'].apply(remove_stopwords)\n",
    "df['reviewerName'] = df['reviewerName'].apply(remove_stopwords)\n",
    "df['reviewText'] = df['reviewText'].apply(remove_stopwords)\n",
    "df['summary'] = df['summary'].apply(remove_stopwords)"
   ]
  },
  {
   "cell_type": "code",
   "execution_count": 26,
   "metadata": {
    "execution": {
     "iopub.execute_input": "2024-08-22T11:13:14.672946Z",
     "iopub.status.busy": "2024-08-22T11:13:14.672543Z",
     "iopub.status.idle": "2024-08-22T11:13:14.690834Z",
     "shell.execute_reply": "2024-08-22T11:13:14.689608Z",
     "shell.execute_reply.started": "2024-08-22T11:13:14.672904Z"
    }
   },
   "outputs": [
    {
     "data": {
      "text/html": [
       "<div>\n",
       "<style scoped>\n",
       "    .dataframe tbody tr th:only-of-type {\n",
       "        vertical-align: middle;\n",
       "    }\n",
       "\n",
       "    .dataframe tbody tr th {\n",
       "        vertical-align: top;\n",
       "    }\n",
       "\n",
       "    .dataframe thead th {\n",
       "        text-align: right;\n",
       "    }\n",
       "</style>\n",
       "<table border=\"1\" class=\"dataframe\">\n",
       "  <thead>\n",
       "    <tr style=\"text-align: right;\">\n",
       "      <th></th>\n",
       "      <th>Unnamed: 0</th>\n",
       "      <th>overall</th>\n",
       "      <th>verified</th>\n",
       "      <th>reviewTime</th>\n",
       "      <th>reviewerID</th>\n",
       "      <th>asin</th>\n",
       "      <th>style</th>\n",
       "      <th>reviewerName</th>\n",
       "      <th>reviewText</th>\n",
       "      <th>summary</th>\n",
       "      <th>unixReviewTime</th>\n",
       "      <th>vote</th>\n",
       "      <th>image</th>\n",
       "    </tr>\n",
       "  </thead>\n",
       "  <tbody>\n",
       "    <tr>\n",
       "      <th>0</th>\n",
       "      <td>0</td>\n",
       "      <td>4.0</td>\n",
       "      <td>True</td>\n",
       "      <td>03 11, 2014</td>\n",
       "      <td>A240ORQ2LF9LUI</td>\n",
       "      <td>77613252</td>\n",
       "      <td>format loose leaf</td>\n",
       "      <td>michelle w</td>\n",
       "      <td>materials arrived early    excellent conditio...</td>\n",
       "      <td>material great</td>\n",
       "      <td>1394496000</td>\n",
       "      <td>NaN</td>\n",
       "      <td>NaN</td>\n",
       "    </tr>\n",
       "    <tr>\n",
       "      <th>1</th>\n",
       "      <td>1</td>\n",
       "      <td>4.0</td>\n",
       "      <td>True</td>\n",
       "      <td>02 23, 2014</td>\n",
       "      <td>A1YCCU0YRLS0FE</td>\n",
       "      <td>77613252</td>\n",
       "      <td>format loose leaf</td>\n",
       "      <td>rosalind white ames</td>\n",
       "      <td>really enjoying  book   worksheets  make  re...</td>\n",
       "      <td>health</td>\n",
       "      <td>1393113600</td>\n",
       "      <td>NaN</td>\n",
       "      <td>NaN</td>\n",
       "    </tr>\n",
       "    <tr>\n",
       "      <th>2</th>\n",
       "      <td>2</td>\n",
       "      <td>1.0</td>\n",
       "      <td>True</td>\n",
       "      <td>02 17, 2014</td>\n",
       "      <td>A1BJHRQDYVAY2J</td>\n",
       "      <td>77613252</td>\n",
       "      <td>format loose leaf</td>\n",
       "      <td>allan r baker</td>\n",
       "      <td>taking  class dont waste  money    called b...</td>\n",
       "      <td>kiding</td>\n",
       "      <td>1392595200</td>\n",
       "      <td>7.0</td>\n",
       "      <td>NaN</td>\n",
       "    </tr>\n",
       "    <tr>\n",
       "      <th>3</th>\n",
       "      <td>3</td>\n",
       "      <td>3.0</td>\n",
       "      <td>True</td>\n",
       "      <td>02 17, 2014</td>\n",
       "      <td>APRDVZ6QBIQXT</td>\n",
       "      <td>77613252</td>\n",
       "      <td>format loose leaf</td>\n",
       "      <td>lucy</td>\n",
       "      <td>book  missing pages important pages  couldnt ...</td>\n",
       "      <td>missing pages</td>\n",
       "      <td>1392595200</td>\n",
       "      <td>3.0</td>\n",
       "      <td>NaN</td>\n",
       "    </tr>\n",
       "    <tr>\n",
       "      <th>4</th>\n",
       "      <td>4</td>\n",
       "      <td>5.0</td>\n",
       "      <td>False</td>\n",
       "      <td>10 14, 2013</td>\n",
       "      <td>A2JZTTBSLS1QXV</td>\n",
       "      <td>77775473</td>\n",
       "      <td>nan</td>\n",
       "      <td>albert v</td>\n",
       "      <td>used learnsmart   officially say     amazing...</td>\n",
       "      <td>best study product</td>\n",
       "      <td>1381708800</td>\n",
       "      <td>NaN</td>\n",
       "      <td>NaN</td>\n",
       "    </tr>\n",
       "    <tr>\n",
       "      <th>...</th>\n",
       "      <td>...</td>\n",
       "      <td>...</td>\n",
       "      <td>...</td>\n",
       "      <td>...</td>\n",
       "      <td>...</td>\n",
       "      <td>...</td>\n",
       "      <td>...</td>\n",
       "      <td>...</td>\n",
       "      <td>...</td>\n",
       "      <td>...</td>\n",
       "      <td>...</td>\n",
       "      <td>...</td>\n",
       "      <td>...</td>\n",
       "    </tr>\n",
       "    <tr>\n",
       "      <th>495</th>\n",
       "      <td>495</td>\n",
       "      <td>5.0</td>\n",
       "      <td>True</td>\n",
       "      <td>08 25, 2016</td>\n",
       "      <td>A32MA3S8NH50MC</td>\n",
       "      <td>763855553</td>\n",
       "      <td>nan</td>\n",
       "      <td>nancy peacock</td>\n",
       "      <td>dont used   grandson    loves</td>\n",
       "      <td>five stars</td>\n",
       "      <td>1472083200</td>\n",
       "      <td>NaN</td>\n",
       "      <td>NaN</td>\n",
       "    </tr>\n",
       "    <tr>\n",
       "      <th>496</th>\n",
       "      <td>496</td>\n",
       "      <td>2.0</td>\n",
       "      <td>False</td>\n",
       "      <td>08 25, 2016</td>\n",
       "      <td>A1V37CXJZCMSA0</td>\n",
       "      <td>763855553</td>\n",
       "      <td>nan</td>\n",
       "      <td>saulb</td>\n",
       "      <td>installed 365  6 months ago   comes   perks  ...</td>\n",
       "      <td>365 still  bugs  need worked</td>\n",
       "      <td>1472083200</td>\n",
       "      <td>NaN</td>\n",
       "      <td>NaN</td>\n",
       "    </tr>\n",
       "    <tr>\n",
       "      <th>497</th>\n",
       "      <td>497</td>\n",
       "      <td>5.0</td>\n",
       "      <td>True</td>\n",
       "      <td>08 19, 2016</td>\n",
       "      <td>A1N7GDU53M4HGO</td>\n",
       "      <td>763855553</td>\n",
       "      <td>nan</td>\n",
       "      <td>robert hicks</td>\n",
       "      <td>great product  expected</td>\n",
       "      <td>five stars</td>\n",
       "      <td>1471564800</td>\n",
       "      <td>NaN</td>\n",
       "      <td>NaN</td>\n",
       "    </tr>\n",
       "    <tr>\n",
       "      <th>498</th>\n",
       "      <td>498</td>\n",
       "      <td>5.0</td>\n",
       "      <td>True</td>\n",
       "      <td>08 18, 2016</td>\n",
       "      <td>A2FU6HP81I7FCX</td>\n",
       "      <td>763855553</td>\n",
       "      <td>nan</td>\n",
       "      <td>eric pickett</td>\n",
       "      <td>worked great</td>\n",
       "      <td>worked great</td>\n",
       "      <td>1471478400</td>\n",
       "      <td>2.0</td>\n",
       "      <td>NaN</td>\n",
       "    </tr>\n",
       "    <tr>\n",
       "      <th>499</th>\n",
       "      <td>499</td>\n",
       "      <td>4.0</td>\n",
       "      <td>True</td>\n",
       "      <td>08 11, 2016</td>\n",
       "      <td>A2RWZOCT8A2LOC</td>\n",
       "      <td>763855553</td>\n",
       "      <td>nan</td>\n",
       "      <td>rb</td>\n",
       "      <td>works fine</td>\n",
       "      <td>four stars</td>\n",
       "      <td>1470873600</td>\n",
       "      <td>NaN</td>\n",
       "      <td>NaN</td>\n",
       "    </tr>\n",
       "  </tbody>\n",
       "</table>\n",
       "<p>500 rows × 13 columns</p>\n",
       "</div>"
      ],
      "text/plain": [
       "     Unnamed: 0  overall  verified   reviewTime      reviewerID       asin  \\\n",
       "0             0      4.0      True  03 11, 2014  A240ORQ2LF9LUI   77613252   \n",
       "1             1      4.0      True  02 23, 2014  A1YCCU0YRLS0FE   77613252   \n",
       "2             2      1.0      True  02 17, 2014  A1BJHRQDYVAY2J   77613252   \n",
       "3             3      3.0      True  02 17, 2014   APRDVZ6QBIQXT   77613252   \n",
       "4             4      5.0     False  10 14, 2013  A2JZTTBSLS1QXV   77775473   \n",
       "..          ...      ...       ...          ...             ...        ...   \n",
       "495         495      5.0      True  08 25, 2016  A32MA3S8NH50MC  763855553   \n",
       "496         496      2.0     False  08 25, 2016  A1V37CXJZCMSA0  763855553   \n",
       "497         497      5.0      True  08 19, 2016  A1N7GDU53M4HGO  763855553   \n",
       "498         498      5.0      True  08 18, 2016  A2FU6HP81I7FCX  763855553   \n",
       "499         499      4.0      True  08 11, 2016  A2RWZOCT8A2LOC  763855553   \n",
       "\n",
       "                 style         reviewerName  \\\n",
       "0    format loose leaf           michelle w   \n",
       "1    format loose leaf  rosalind white ames   \n",
       "2    format loose leaf        allan r baker   \n",
       "3    format loose leaf                 lucy   \n",
       "4                  nan             albert v   \n",
       "..                 ...                  ...   \n",
       "495                nan        nancy peacock   \n",
       "496                nan                saulb   \n",
       "497                nan         robert hicks   \n",
       "498                nan         eric pickett   \n",
       "499                nan                   rb   \n",
       "\n",
       "                                            reviewText  \\\n",
       "0     materials arrived early    excellent conditio...   \n",
       "1      really enjoying  book   worksheets  make  re...   \n",
       "2       taking  class dont waste  money    called b...   \n",
       "3     book  missing pages important pages  couldnt ...   \n",
       "4      used learnsmart   officially say     amazing...   \n",
       "..                                                 ...   \n",
       "495                     dont used   grandson    loves    \n",
       "496   installed 365  6 months ago   comes   perks  ...   \n",
       "497                            great product  expected   \n",
       "498                                       worked great   \n",
       "499                                         works fine   \n",
       "\n",
       "                           summary  unixReviewTime  vote image  \n",
       "0                   material great      1394496000   NaN   NaN  \n",
       "1                           health      1393113600   NaN   NaN  \n",
       "2                          kiding       1392595200   7.0   NaN  \n",
       "3                    missing pages      1392595200   3.0   NaN  \n",
       "4             best study product        1381708800   NaN   NaN  \n",
       "..                             ...             ...   ...   ...  \n",
       "495                     five stars      1472083200   NaN   NaN  \n",
       "496  365 still  bugs  need worked       1472083200   NaN   NaN  \n",
       "497                     five stars      1471564800   NaN   NaN  \n",
       "498                   worked great      1471478400   2.0   NaN  \n",
       "499                     four stars      1470873600   NaN   NaN  \n",
       "\n",
       "[500 rows x 13 columns]"
      ]
     },
     "execution_count": 26,
     "metadata": {},
     "output_type": "execute_result"
    }
   ],
   "source": [
    "df"
   ]
  },
  {
   "cell_type": "markdown",
   "metadata": {},
   "source": [
    "# Handling Emojis\n",
    "\n",
    "- If we have emojis in the text, we have two options:\n",
    "  - Removing Emojis. (OR)\n",
    "  - Replacing emojis in the form of text."
   ]
  },
  {
   "cell_type": "code",
   "execution_count": 27,
   "metadata": {
    "execution": {
     "iopub.execute_input": "2024-08-22T11:13:14.692982Z",
     "iopub.status.busy": "2024-08-22T11:13:14.692499Z",
     "iopub.status.idle": "2024-08-22T11:13:14.703012Z",
     "shell.execute_reply": "2024-08-22T11:13:14.701921Z",
     "shell.execute_reply.started": "2024-08-22T11:13:14.692928Z"
    }
   },
   "outputs": [],
   "source": [
    "import re\n",
    "def remove_emoji(text):\n",
    "    emoji_pattern = re.compile(\"[\"\n",
    "                               \"u\\U0001F600-\\U0001F64F\"  # Emotions\n",
    "                               \"u\\U0001F300-\\U0001F5FF\"  # Symbols & pictographs\n",
    "                               \"u\\U0001F680-\\U0001F6FF\"  # Transport & map symbols\n",
    "                               \"u\\U0001F1E0-\\U0001F1FF\"  # Flags(iOS)\n",
    "                               \"u\\U00002702-\\U000027B0\"\n",
    "                               \"u\\U000024C2-\\U0001F251\"\n",
    "                               \"]+\", flags=re.UNICODE)\n",
    "    return emoji_pattern.sub(r'', text)"
   ]
  },
  {
   "cell_type": "code",
   "execution_count": 28,
   "metadata": {
    "execution": {
     "iopub.execute_input": "2024-08-22T11:13:14.707127Z",
     "iopub.status.busy": "2024-08-22T11:13:14.706552Z",
     "iopub.status.idle": "2024-08-22T11:13:14.724149Z",
     "shell.execute_reply": "2024-08-22T11:13:14.722811Z",
     "shell.execute_reply.started": "2024-08-22T11:13:14.707069Z"
    }
   },
   "outputs": [
    {
     "data": {
      "text/plain": [
       "'Loved the movie, it was '"
      ]
     },
     "execution_count": 28,
     "metadata": {},
     "output_type": "execute_result"
    }
   ],
   "source": [
    "remove_emoji(\"Loved the movie, it was 👍\")"
   ]
  },
  {
   "cell_type": "code",
   "execution_count": 29,
   "metadata": {
    "execution": {
     "iopub.execute_input": "2024-08-22T11:13:14.726062Z",
     "iopub.status.busy": "2024-08-22T11:13:14.725649Z",
     "iopub.status.idle": "2024-08-22T11:13:14.814600Z",
     "shell.execute_reply": "2024-08-22T11:13:14.813272Z",
     "shell.execute_reply.started": "2024-08-22T11:13:14.726007Z"
    }
   },
   "outputs": [
    {
     "name": "stdout",
     "output_type": "stream",
     "text": [
      "Python is :fire:\n"
     ]
    }
   ],
   "source": [
    "import emoji\n",
    "print(emoji.demojize('Python is 🔥'))"
   ]
  },
  {
   "cell_type": "code",
   "execution_count": 61,
   "metadata": {},
   "outputs": [],
   "source": [
    "df['style'] = df['style'].apply(remove_emoji)\n",
    "df['reviewerName'] = df['reviewerName'].apply(remove_emoji)\n",
    "df['reviewText'] = df['reviewText'].apply(remove_emoji)\n",
    "df['summary'] = df['summary'].apply(remove_emoji)"
   ]
  },
  {
   "cell_type": "markdown",
   "metadata": {},
   "source": [
    "# Tokenization"
   ]
  },
  {
   "cell_type": "markdown",
   "metadata": {},
   "source": [
    "### 1. Using the split function"
   ]
  },
  {
   "cell_type": "code",
   "execution_count": 30,
   "metadata": {
    "execution": {
     "iopub.execute_input": "2024-08-22T11:13:14.816686Z",
     "iopub.status.busy": "2024-08-22T11:13:14.816070Z",
     "iopub.status.idle": "2024-08-22T11:13:14.824811Z",
     "shell.execute_reply": "2024-08-22T11:13:14.823428Z",
     "shell.execute_reply.started": "2024-08-22T11:13:14.816637Z"
    }
   },
   "outputs": [
    {
     "data": {
      "text/plain": [
       "['I', 'am', 'going', 'to', 'delhi']"
      ]
     },
     "execution_count": 30,
     "metadata": {},
     "output_type": "execute_result"
    }
   ],
   "source": [
    "# Word Tokenization\n",
    "a = 'I am going to delhi'\n",
    "a.split()"
   ]
  },
  {
   "cell_type": "code",
   "execution_count": 31,
   "metadata": {
    "execution": {
     "iopub.execute_input": "2024-08-22T11:13:14.827530Z",
     "iopub.status.busy": "2024-08-22T11:13:14.826661Z",
     "iopub.status.idle": "2024-08-22T11:13:14.839747Z",
     "shell.execute_reply": "2024-08-22T11:13:14.838518Z",
     "shell.execute_reply.started": "2024-08-22T11:13:14.827468Z"
    }
   },
   "outputs": [
    {
     "data": {
      "text/plain": [
       "['Iam going to delhi',\n",
       " ' I will stay there for 3 days',\n",
       " \" Let's hope the trip to be great\"]"
      ]
     },
     "execution_count": 31,
     "metadata": {},
     "output_type": "execute_result"
    }
   ],
   "source": [
    "# Sentence Tokenization\n",
    "b = 'Iam going to delhi. I will stay there for 3 days. Let\\'s hope the trip to be great'\n",
    "b.split('.')"
   ]
  },
  {
   "cell_type": "code",
   "execution_count": 32,
   "metadata": {
    "execution": {
     "iopub.execute_input": "2024-08-22T11:13:14.841627Z",
     "iopub.status.busy": "2024-08-22T11:13:14.841208Z",
     "iopub.status.idle": "2024-08-22T11:13:14.858182Z",
     "shell.execute_reply": "2024-08-22T11:13:14.856962Z",
     "shell.execute_reply.started": "2024-08-22T11:13:14.841575Z"
    }
   },
   "outputs": [
    {
     "data": {
      "text/plain": [
       "['I', 'am', 'going', 'to', 'delhi']"
      ]
     },
     "execution_count": 32,
     "metadata": {},
     "output_type": "execute_result"
    }
   ],
   "source": [
    "# Problem with split function\n",
    "c = 'I am going to delhi'\n",
    "c.split()"
   ]
  },
  {
   "cell_type": "code",
   "execution_count": 33,
   "metadata": {
    "execution": {
     "iopub.execute_input": "2024-08-22T11:13:14.860274Z",
     "iopub.status.busy": "2024-08-22T11:13:14.859835Z",
     "iopub.status.idle": "2024-08-22T11:13:14.871754Z",
     "shell.execute_reply": "2024-08-22T11:13:14.870422Z",
     "shell.execute_reply.started": "2024-08-22T11:13:14.860231Z"
    }
   },
   "outputs": [
    {
     "data": {
      "text/plain": [
       "['Where do think I should go? I have 3 day holiday']"
      ]
     },
     "execution_count": 33,
     "metadata": {},
     "output_type": "execute_result"
    }
   ],
   "source": [
    "d = 'Where do think I should go? I have 3 day holiday'\n",
    "d.split('.')"
   ]
  },
  {
   "cell_type": "markdown",
   "metadata": {},
   "source": [
    "### 2. Regular Expression"
   ]
  },
  {
   "cell_type": "code",
   "execution_count": 34,
   "metadata": {
    "execution": {
     "iopub.execute_input": "2024-08-22T11:13:14.877840Z",
     "iopub.status.busy": "2024-08-22T11:13:14.877372Z",
     "iopub.status.idle": "2024-08-22T11:13:14.887085Z",
     "shell.execute_reply": "2024-08-22T11:13:14.885955Z",
     "shell.execute_reply.started": "2024-08-22T11:13:14.877796Z"
    }
   },
   "outputs": [
    {
     "data": {
      "text/plain": [
       "['I', 'am', 'going', 'to', 'delhi']"
      ]
     },
     "execution_count": 34,
     "metadata": {},
     "output_type": "execute_result"
    }
   ],
   "source": [
    "import re\n",
    "\n",
    "e = 'I am going to delhi'\n",
    "tokens = re.findall(\"[\\w']+\", e)\n",
    "tokens"
   ]
  },
  {
   "cell_type": "code",
   "execution_count": 35,
   "metadata": {
    "execution": {
     "iopub.execute_input": "2024-08-22T11:13:14.888882Z",
     "iopub.status.busy": "2024-08-22T11:13:14.888397Z",
     "iopub.status.idle": "2024-08-22T11:13:14.901882Z",
     "shell.execute_reply": "2024-08-22T11:13:14.900593Z",
     "shell.execute_reply.started": "2024-08-22T11:13:14.888830Z"
    }
   },
   "outputs": [
    {
     "data": {
      "text/plain": [
       "[\"Lorem Ipsum is simply dummy text of the printing and typesetting industry?\\nLorem Ipsum has been the industry's standard dummy text ever since the 1500s,\\nwhen an unknown printer took a galley of type and scrambled it to make a type specimen book.\"]"
      ]
     },
     "execution_count": 35,
     "metadata": {},
     "output_type": "execute_result"
    }
   ],
   "source": [
    "text = \"\"\"Lorem Ipsum is simply dummy text of the printing and typesetting industry?\n",
    "Lorem Ipsum has been the industry's standard dummy text ever since the 1500s,\n",
    "when an unknown printer took a galley of type and scrambled it to make a type specimen book.\"\"\"\n",
    "sentences = re.compile('[.!?] ').split(text)\n",
    "sentences"
   ]
  },
  {
   "cell_type": "markdown",
   "metadata": {},
   "source": [
    "### 3. NLTK"
   ]
  },
  {
   "cell_type": "code",
   "execution_count": 36,
   "metadata": {
    "execution": {
     "iopub.execute_input": "2024-08-22T11:13:14.903647Z",
     "iopub.status.busy": "2024-08-22T11:13:14.903216Z",
     "iopub.status.idle": "2024-08-22T11:13:14.914591Z",
     "shell.execute_reply": "2024-08-22T11:13:14.913186Z",
     "shell.execute_reply.started": "2024-08-22T11:13:14.903581Z"
    }
   },
   "outputs": [],
   "source": [
    "from nltk.tokenize import word_tokenize,sent_tokenize"
   ]
  },
  {
   "cell_type": "code",
   "execution_count": 37,
   "metadata": {
    "execution": {
     "iopub.execute_input": "2024-08-22T11:13:14.916650Z",
     "iopub.status.busy": "2024-08-22T11:13:14.916199Z",
     "iopub.status.idle": "2024-08-22T11:13:14.946757Z",
     "shell.execute_reply": "2024-08-22T11:13:14.945531Z",
     "shell.execute_reply.started": "2024-08-22T11:13:14.916605Z"
    }
   },
   "outputs": [
    {
     "data": {
      "text/plain": [
       "['I', 'am', 'goind', 'to', 'visit', 'delhi', '!']"
      ]
     },
     "execution_count": 37,
     "metadata": {},
     "output_type": "execute_result"
    }
   ],
   "source": [
    "sent1 = 'I am goind to visit delhi!'\n",
    "word_tokenize(sent1)"
   ]
  },
  {
   "cell_type": "code",
   "execution_count": 38,
   "metadata": {
    "execution": {
     "iopub.execute_input": "2024-08-22T11:13:14.948573Z",
     "iopub.status.busy": "2024-08-22T11:13:14.948140Z",
     "iopub.status.idle": "2024-08-22T11:13:14.959157Z",
     "shell.execute_reply": "2024-08-22T11:13:14.957923Z",
     "shell.execute_reply.started": "2024-08-22T11:13:14.948531Z"
    }
   },
   "outputs": [
    {
     "data": {
      "text/plain": [
       "['Lorem Ipsum is simply dummy text of the printing and typesetting industry?',\n",
       " \"Lorem Ipsum has been the industry's standard dummy text ever since the 1500s,\\nwhen an unknown printer took a galley of type and scrambled it to make a type specimen book.\"]"
      ]
     },
     "execution_count": 38,
     "metadata": {},
     "output_type": "execute_result"
    }
   ],
   "source": [
    "text = \"\"\"Lorem Ipsum is simply dummy text of the printing and typesetting industry?\n",
    "Lorem Ipsum has been the industry's standard dummy text ever since the 1500s,\n",
    "when an unknown printer took a galley of type and scrambled it to make a type specimen book.\"\"\"\n",
    "\n",
    "sent_tokenize(text)"
   ]
  },
  {
   "cell_type": "code",
   "execution_count": 39,
   "metadata": {
    "execution": {
     "iopub.execute_input": "2024-08-22T11:13:14.960985Z",
     "iopub.status.busy": "2024-08-22T11:13:14.960606Z",
     "iopub.status.idle": "2024-08-22T11:13:14.971453Z",
     "shell.execute_reply": "2024-08-22T11:13:14.970197Z",
     "shell.execute_reply.started": "2024-08-22T11:13:14.960945Z"
    }
   },
   "outputs": [],
   "source": [
    "sent5 = 'I have a Ph.D in A.I'\n",
    "sent6 = \"We're  here to help! mail us at gks@gmail.com\"\n",
    "sent7 = 'A 5km ride cost $10.50'"
   ]
  },
  {
   "cell_type": "code",
   "execution_count": 40,
   "metadata": {
    "execution": {
     "iopub.execute_input": "2024-08-22T11:13:14.973268Z",
     "iopub.status.busy": "2024-08-22T11:13:14.972902Z",
     "iopub.status.idle": "2024-08-22T11:13:14.987056Z",
     "shell.execute_reply": "2024-08-22T11:13:14.985141Z",
     "shell.execute_reply.started": "2024-08-22T11:13:14.973214Z"
    }
   },
   "outputs": [
    {
     "data": {
      "text/plain": [
       "['I', 'have', 'a', 'Ph.D', 'in', 'A.I']"
      ]
     },
     "execution_count": 40,
     "metadata": {},
     "output_type": "execute_result"
    }
   ],
   "source": [
    "word_tokenize(sent5)"
   ]
  },
  {
   "cell_type": "code",
   "execution_count": 41,
   "metadata": {
    "execution": {
     "iopub.execute_input": "2024-08-22T11:13:14.989048Z",
     "iopub.status.busy": "2024-08-22T11:13:14.988516Z",
     "iopub.status.idle": "2024-08-22T11:13:15.003205Z",
     "shell.execute_reply": "2024-08-22T11:13:15.001724Z",
     "shell.execute_reply.started": "2024-08-22T11:13:14.988982Z"
    }
   },
   "outputs": [
    {
     "data": {
      "text/plain": [
       "['We',\n",
       " \"'re\",\n",
       " 'here',\n",
       " 'to',\n",
       " 'help',\n",
       " '!',\n",
       " 'mail',\n",
       " 'us',\n",
       " 'at',\n",
       " 'gks',\n",
       " '@',\n",
       " 'gmail.com']"
      ]
     },
     "execution_count": 41,
     "metadata": {},
     "output_type": "execute_result"
    }
   ],
   "source": [
    "word_tokenize(sent6)"
   ]
  },
  {
   "cell_type": "code",
   "execution_count": 42,
   "metadata": {
    "execution": {
     "iopub.execute_input": "2024-08-22T11:13:15.005924Z",
     "iopub.status.busy": "2024-08-22T11:13:15.005409Z",
     "iopub.status.idle": "2024-08-22T11:13:15.015046Z",
     "shell.execute_reply": "2024-08-22T11:13:15.013768Z",
     "shell.execute_reply.started": "2024-08-22T11:13:15.005881Z"
    }
   },
   "outputs": [
    {
     "data": {
      "text/plain": [
       "['A', '5km', 'ride', 'cost', '$', '10.50']"
      ]
     },
     "execution_count": 42,
     "metadata": {},
     "output_type": "execute_result"
    }
   ],
   "source": [
    "word_tokenize(sent7)"
   ]
  },
  {
   "cell_type": "markdown",
   "metadata": {},
   "source": [
    "### 4. Spacy"
   ]
  },
  {
   "cell_type": "code",
   "execution_count": 43,
   "metadata": {
    "execution": {
     "iopub.execute_input": "2024-08-22T11:13:15.017123Z",
     "iopub.status.busy": "2024-08-22T11:13:15.016730Z",
     "iopub.status.idle": "2024-08-22T11:13:19.910385Z",
     "shell.execute_reply": "2024-08-22T11:13:19.909111Z",
     "shell.execute_reply.started": "2024-08-22T11:13:15.017082Z"
    }
   },
   "outputs": [],
   "source": [
    "import spacy\n",
    "nlp = spacy.load('en_core_web_sm') #english small dictionary"
   ]
  },
  {
   "cell_type": "code",
   "execution_count": 44,
   "metadata": {
    "execution": {
     "iopub.execute_input": "2024-08-22T11:13:19.913285Z",
     "iopub.status.busy": "2024-08-22T11:13:19.912336Z",
     "iopub.status.idle": "2024-08-22T11:13:19.969920Z",
     "shell.execute_reply": "2024-08-22T11:13:19.968749Z",
     "shell.execute_reply.started": "2024-08-22T11:13:19.913226Z"
    }
   },
   "outputs": [],
   "source": [
    "doc1 = nlp(sent5)\n",
    "doc2 = nlp(sent6)\n",
    "doc3 = nlp(sent7)\n",
    "doc4 = nlp(sent1)"
   ]
  },
  {
   "cell_type": "code",
   "execution_count": 45,
   "metadata": {
    "execution": {
     "iopub.execute_input": "2024-08-22T11:13:19.972476Z",
     "iopub.status.busy": "2024-08-22T11:13:19.971970Z",
     "iopub.status.idle": "2024-08-22T11:13:19.978770Z",
     "shell.execute_reply": "2024-08-22T11:13:19.977634Z",
     "shell.execute_reply.started": "2024-08-22T11:13:19.972394Z"
    }
   },
   "outputs": [
    {
     "name": "stdout",
     "output_type": "stream",
     "text": [
      "I\n",
      "have\n",
      "a\n",
      "Ph\n",
      ".\n",
      "D\n",
      "in\n",
      "A.I\n"
     ]
    }
   ],
   "source": [
    "for token in doc1: # here it is failing\n",
    "    print(token)"
   ]
  },
  {
   "cell_type": "code",
   "execution_count": 46,
   "metadata": {
    "execution": {
     "iopub.execute_input": "2024-08-22T11:13:20.025880Z",
     "iopub.status.busy": "2024-08-22T11:13:20.025404Z",
     "iopub.status.idle": "2024-08-22T11:13:20.033578Z",
     "shell.execute_reply": "2024-08-22T11:13:20.032188Z",
     "shell.execute_reply.started": "2024-08-22T11:13:20.025817Z"
    }
   },
   "outputs": [
    {
     "name": "stdout",
     "output_type": "stream",
     "text": [
      "We\n",
      "'re\n",
      " \n",
      "here\n",
      "to\n",
      "help\n",
      "!\n",
      "mail\n",
      "us\n",
      "at\n",
      "gks@gmail.com\n"
     ]
    }
   ],
   "source": [
    "for token in doc2:\n",
    "    print(token)"
   ]
  },
  {
   "cell_type": "code",
   "execution_count": 47,
   "metadata": {
    "execution": {
     "iopub.execute_input": "2024-08-22T11:13:20.035426Z",
     "iopub.status.busy": "2024-08-22T11:13:20.034989Z",
     "iopub.status.idle": "2024-08-22T11:13:20.046581Z",
     "shell.execute_reply": "2024-08-22T11:13:20.045281Z",
     "shell.execute_reply.started": "2024-08-22T11:13:20.035342Z"
    }
   },
   "outputs": [
    {
     "name": "stdout",
     "output_type": "stream",
     "text": [
      "A\n",
      "5\n",
      "km\n",
      "ride\n",
      "cost\n",
      "$\n",
      "10.50\n"
     ]
    }
   ],
   "source": [
    "for token in doc3:\n",
    "    print(token)"
   ]
  },
  {
   "cell_type": "code",
   "execution_count": 48,
   "metadata": {
    "execution": {
     "iopub.execute_input": "2024-08-22T11:13:20.048450Z",
     "iopub.status.busy": "2024-08-22T11:13:20.048065Z",
     "iopub.status.idle": "2024-08-22T11:13:20.057823Z",
     "shell.execute_reply": "2024-08-22T11:13:20.056531Z",
     "shell.execute_reply.started": "2024-08-22T11:13:20.048394Z"
    }
   },
   "outputs": [
    {
     "name": "stdout",
     "output_type": "stream",
     "text": [
      "I\n",
      "am\n",
      "goind\n",
      "to\n",
      "visit\n",
      "delhi\n",
      "!\n"
     ]
    }
   ],
   "source": [
    "for token in doc4:\n",
    "    print(token)"
   ]
  },
  {
   "cell_type": "markdown",
   "metadata": {},
   "source": [
    "# Stemming"
   ]
  },
  {
   "cell_type": "code",
   "execution_count": 49,
   "metadata": {
    "execution": {
     "iopub.execute_input": "2024-08-22T11:57:03.520329Z",
     "iopub.status.busy": "2024-08-22T11:57:03.519101Z",
     "iopub.status.idle": "2024-08-22T11:57:05.927557Z",
     "shell.execute_reply": "2024-08-22T11:57:05.925987Z",
     "shell.execute_reply.started": "2024-08-22T11:57:03.520268Z"
    }
   },
   "outputs": [],
   "source": [
    "from nltk.stem.porter import PorterStemmer"
   ]
  },
  {
   "cell_type": "code",
   "execution_count": 50,
   "metadata": {
    "execution": {
     "iopub.execute_input": "2024-08-22T11:57:05.930795Z",
     "iopub.status.busy": "2024-08-22T11:57:05.930029Z",
     "iopub.status.idle": "2024-08-22T11:57:05.938115Z",
     "shell.execute_reply": "2024-08-22T11:57:05.936503Z",
     "shell.execute_reply.started": "2024-08-22T11:57:05.930722Z"
    }
   },
   "outputs": [],
   "source": [
    "ps = PorterStemmer()\n",
    "def stem_words(text):\n",
    "    return \" \".join([ps.stem(word) for word in text.split()])"
   ]
  },
  {
   "cell_type": "code",
   "execution_count": 68,
   "metadata": {
    "execution": {
     "iopub.execute_input": "2024-08-22T11:57:11.529978Z",
     "iopub.status.busy": "2024-08-22T11:57:11.528790Z",
     "iopub.status.idle": "2024-08-22T11:57:11.539029Z",
     "shell.execute_reply": "2024-08-22T11:57:11.537501Z",
     "shell.execute_reply.started": "2024-08-22T11:57:11.529920Z"
    }
   },
   "outputs": [
    {
     "data": {
      "text/plain": [
       "'walk walk walk walk'"
      ]
     },
     "execution_count": 68,
     "metadata": {},
     "output_type": "execute_result"
    }
   ],
   "source": [
    "sample = \"walk walks walking walked\"\n",
    "stem_words(sample)"
   ]
  },
  {
   "cell_type": "code",
   "execution_count": 65,
   "metadata": {},
   "outputs": [
    {
     "data": {
      "text/plain": [
       "'play play play play'"
      ]
     },
     "execution_count": 65,
     "metadata": {},
     "output_type": "execute_result"
    }
   ],
   "source": [
    "sample1 = \"play plays playing played\"\n",
    "stem_words(sample1)"
   ]
  },
  {
   "cell_type": "code",
   "execution_count": 64,
   "metadata": {},
   "outputs": [
    {
     "data": {
      "text/plain": [
       "'eat ate eat eaten'"
      ]
     },
     "execution_count": 64,
     "metadata": {},
     "output_type": "execute_result"
    }
   ],
   "source": [
    "sample2 = \"eat ate eating eaten\"\n",
    "stem_words(sample2)"
   ]
  },
  {
   "cell_type": "code",
   "execution_count": 52,
   "metadata": {
    "execution": {
     "iopub.execute_input": "2024-08-22T11:57:29.573789Z",
     "iopub.status.busy": "2024-08-22T11:57:29.573245Z",
     "iopub.status.idle": "2024-08-22T11:57:29.581944Z",
     "shell.execute_reply": "2024-08-22T11:57:29.580247Z",
     "shell.execute_reply.started": "2024-08-22T11:57:29.573695Z"
    }
   },
   "outputs": [
    {
     "name": "stdout",
     "output_type": "stream",
     "text": [
      "probably my all time favourite movie a story of selflessness sacrifice and dedication to a noble cause but its not preachy or boring it just never gets old despite my having seen some 15 or more times in the last 25 years.\n"
     ]
    }
   ],
   "source": [
    "text = \"probably my all time favourite movie a story of selflessness sacrifice and dedication to a noble cause but its not preachy or boring it just never gets old despite my having seen some 15 or more times in the last 25 years.\"\n",
    "print(text)"
   ]
  },
  {
   "cell_type": "code",
   "execution_count": 53,
   "metadata": {
    "execution": {
     "iopub.execute_input": "2024-08-22T11:57:45.785343Z",
     "iopub.status.busy": "2024-08-22T11:57:45.784784Z",
     "iopub.status.idle": "2024-08-22T11:57:45.795964Z",
     "shell.execute_reply": "2024-08-22T11:57:45.794440Z",
     "shell.execute_reply.started": "2024-08-22T11:57:45.785288Z"
    }
   },
   "outputs": [
    {
     "data": {
      "text/plain": [
       "'probabl my all time favourit movi a stori of selfless sacrific and dedic to a nobl caus but it not preachi or bore it just never get old despit my have seen some 15 or more time in the last 25 years.'"
      ]
     },
     "execution_count": 53,
     "metadata": {},
     "output_type": "execute_result"
    }
   ],
   "source": [
    "stem_words(text)"
   ]
  },
  {
   "cell_type": "code",
   "execution_count": 1,
   "metadata": {},
   "outputs": [
    {
     "name": "stdout",
     "output_type": "stream",
     "text": [
      "run jump happili studi\n"
     ]
    }
   ],
   "source": [
    "from nltk.stem import SnowballStemmer\n",
    "\n",
    "# Specify the language (English in this case)\n",
    "ss = SnowballStemmer(\"english\")\n",
    "\n",
    "def stem_words(text):\n",
    "    return \" \".join([ss.stem(word) for word in text.split()])\n",
    "# # Example usage\n",
    "text = \"running jumped happily studies\"\n",
    "print(stem_words(text))  # Output: run jump happi studi"
   ]
  },
  {
   "cell_type": "code",
   "execution_count": 2,
   "metadata": {},
   "outputs": [
    {
     "name": "stdout",
     "output_type": "stream",
     "text": [
      "run jump happy study\n"
     ]
    }
   ],
   "source": [
    "from nltk.stem import LancasterStemmer\n",
    "\n",
    "ls = LancasterStemmer()\n",
    "\n",
    "def stem_words(text):\n",
    "    return \" \".join([ls.stem(word) for word in text.split()])\n",
    "\n",
    "# Example usage\n",
    "text = \"running jumped happily studies\"\n",
    "print(stem_words(text))  # Output: run jump happy study"
   ]
  },
  {
   "cell_type": "code",
   "execution_count": 3,
   "metadata": {},
   "outputs": [
    {
     "name": "stdout",
     "output_type": "stream",
     "text": [
      "runn\n"
     ]
    }
   ],
   "source": [
    "import re\n",
    "def regex_stem(word):\n",
    "    return re.sub(r'(ing|ed|ly|es|s)$', '', word)\n",
    "\n",
    "print(regex_stem(\"running\"))  # Output: runn"
   ]
  },
  {
   "cell_type": "code",
   "execution_count": 4,
   "metadata": {},
   "outputs": [
    {
     "name": "stdout",
     "output_type": "stream",
     "text": [
      "runn jump happi studi\n"
     ]
    }
   ],
   "source": [
    "import re\n",
    "\n",
    "def regex_stem(text):\n",
    "    return \" \".join([re.sub(r'(ing|ed|ly|es|s)$', '', word) for word in text.split()])\n",
    "\n",
    "# Example usage\n",
    "text = \"running jumped happily studies\"\n",
    "print(regex_stem(text))  # Output: run jump happi studi"
   ]
  },
  {
   "cell_type": "code",
   "execution_count": 5,
   "metadata": {},
   "outputs": [
    {
     "name": "stdout",
     "output_type": "stream",
     "text": [
      "{'Original': 'Quikly', 'Porter': 'quikli', 'Lancaster': 'quik', 'Snowball': 'quik'}\n",
      "{'Original': 'talking', 'Porter': 'talk', 'Lancaster': 'talk', 'Snowball': 'talk'}\n",
      "{'Original': 'Thought', 'Porter': 'thought', 'Lancaster': 'thought', 'Snowball': 'thought'}\n",
      "{'Original': 'walking', 'Porter': 'walk', 'Lancaster': 'walk', 'Snowball': 'walk'}\n",
      "{'Original': 'Excellent', 'Porter': 'excel', 'Lancaster': 'excel', 'Snowball': 'excel'}\n",
      "{'Original': 'Good', 'Porter': 'good', 'Lancaster': 'good', 'Snowball': 'good'}\n",
      "{'Original': 'Present', 'Porter': 'present', 'Lancaster': 'pres', 'Snowball': 'present'}\n"
     ]
    }
   ],
   "source": [
    "from nltk.stem import PorterStemmer, LancasterStemmer, SnowballStemmer\n",
    "\n",
    "# Initialize stemmers\n",
    "ps = PorterStemmer()\n",
    "ls = LancasterStemmer()\n",
    "ss = SnowballStemmer(\"english\")\n",
    "\n",
    "# Function to apply all stemmers\n",
    "def apply_stemmers(word):\n",
    "    return {\n",
    "        \"Original\": word,\n",
    "        \"Porter\": ps.stem(word),\n",
    "        \"Lancaster\": ls.stem(word),\n",
    "        \"Snowball\": ss.stem(word)\n",
    "    }\n",
    "\n",
    "# Example usage\n",
    "word = \"Quikly\"\n",
    "word1=\"talking\"\n",
    "word2=\"Thought\"\n",
    "word3=\"walking\"\n",
    "word4=\"Excellent\"\n",
    "word5=\"Good\"\n",
    "word6=\"Present\"\n",
    "print(apply_stemmers(word))\n",
    "print(apply_stemmers(word1))\n",
    "print(apply_stemmers(word2))\n",
    "print(apply_stemmers(word3))\n",
    "print(apply_stemmers(word4))\n",
    "print(apply_stemmers(word5))\n",
    "print(apply_stemmers(word6))\n",
    "# Output: {'Original': 'running', 'Porter': 'run', 'Lancaster': 'run', 'Snowball': 'run'}"
   ]
  },
  {
   "cell_type": "markdown",
   "metadata": {},
   "source": [
    "- Here after doing stemming the words like probably, movie, sacrifice etc are converted to probabl, movi, sacrific\n",
    "- To solve this issue we will do Lemmetization.\n",
    "- Work of both Stemming and Lemmetization are same.\n",
    "- The difference is, Lemmetization is slow compared to Stemming"
   ]
  },
  {
   "cell_type": "markdown",
   "metadata": {},
   "source": [
    "# Lemmatizer"
   ]
  },
  {
   "cell_type": "code",
   "execution_count": 58,
   "metadata": {
    "execution": {
     "iopub.execute_input": "2024-08-22T11:58:41.022243Z",
     "iopub.status.busy": "2024-08-22T11:58:41.021774Z",
     "iopub.status.idle": "2024-08-22T11:58:41.028408Z",
     "shell.execute_reply": "2024-08-22T11:58:41.027008Z",
     "shell.execute_reply.started": "2024-08-22T11:58:41.022200Z"
    }
   },
   "outputs": [],
   "source": [
    "import nltk\n",
    "from nltk.stem import WordNetLemmatizer"
   ]
  },
  {
   "cell_type": "code",
   "execution_count": 59,
   "metadata": {
    "execution": {
     "iopub.execute_input": "2024-08-22T12:02:42.947333Z",
     "iopub.status.busy": "2024-08-22T12:02:42.946869Z",
     "iopub.status.idle": "2024-08-22T12:02:42.958446Z",
     "shell.execute_reply": "2024-08-22T12:02:42.956832Z",
     "shell.execute_reply.started": "2024-08-22T12:02:42.947290Z"
    }
   },
   "outputs": [
    {
     "name": "stderr",
     "output_type": "stream",
     "text": [
      "[nltk_data] Downloading package wordnet to\n",
      "[nltk_data]     C:\\Users\\nr802\\AppData\\Roaming\\nltk_data...\n",
      "[nltk_data]   Package wordnet is already up-to-date!\n",
      "[nltk_data] Downloading package omw-1.4 to\n",
      "[nltk_data]     C:\\Users\\nr802\\AppData\\Roaming\\nltk_data...\n",
      "[nltk_data]   Package omw-1.4 is already up-to-date!\n"
     ]
    },
    {
     "data": {
      "text/plain": [
       "True"
      ]
     },
     "execution_count": 59,
     "metadata": {},
     "output_type": "execute_result"
    }
   ],
   "source": [
    "# Download the WordNet corpus\n",
    "nltk.download('wordnet')\n",
    "\n",
    "# You might also need to download the 'omw-1.4' package for wordnet\n",
    "nltk.download('omw-1.4')\n"
   ]
  },
  {
   "cell_type": "code",
   "execution_count": 60,
   "metadata": {},
   "outputs": [
    {
     "name": "stdout",
     "output_type": "stream",
     "text": [
      "Word                Lemma               \n",
      "He                  He                  \n",
      "aws                 aws                 \n",
      "running             run                 \n",
      "and                 and                 \n",
      "eating              eat                 \n",
      "at                  at                  \n",
      "same                same                \n",
      "time                time                \n",
      "He                  He                  \n",
      "has                 have                \n",
      "bad                 bad                 \n",
      "habit               habit               \n",
      "of                  of                  \n",
      "swimming            swim                \n",
      "after               after               \n",
      "playing             play                \n",
      "long                long                \n",
      "hours               hours               \n",
      "in                  in                  \n",
      "the                 the                 \n",
      "Sun                 Sun                 \n"
     ]
    }
   ],
   "source": [
    "wordnet_lemmatizer = WordNetLemmatizer()\n",
    "\n",
    "sentence = \"He aws running and eating at same time. He has bad habit of swimming after playing long hours in the Sun.\"\n",
    "punctuations = \"?:!.,;\"\n",
    "sentence_words = nltk.word_tokenize(sentence)\n",
    "for word in sentence_words:\n",
    "    if word in punctuations:\n",
    "        sentence_words.remove(word)\n",
    "    \n",
    "sentence_words\n",
    "print(\"{0:20}{1:20}\".format(\"Word\",\"Lemma\"))\n",
    "for word in sentence_words:\n",
    "    print(\"{0:20}{1:20}\".format(word,wordnet_lemmatizer.lemmatize(word,pos='v')))"
   ]
  }
 ],
 "metadata": {
  "kaggle": {
   "accelerator": "none",
   "dataSources": [
    {
     "datasetId": 134715,
     "sourceId": 320111,
     "sourceType": "datasetVersion"
    }
   ],
   "dockerImageVersionId": 30761,
   "isGpuEnabled": false,
   "isInternetEnabled": true,
   "language": "python",
   "sourceType": "notebook"
  },
  "kernelspec": {
   "display_name": "Python 3",
   "language": "python",
   "name": "python3"
  },
  "language_info": {
   "codemirror_mode": {
    "name": "ipython",
    "version": 3
   },
   "file_extension": ".py",
   "mimetype": "text/x-python",
   "name": "python",
   "nbconvert_exporter": "python",
   "pygments_lexer": "ipython3",
   "version": "3.10.11"
  }
 },
 "nbformat": 4,
 "nbformat_minor": 4
}
